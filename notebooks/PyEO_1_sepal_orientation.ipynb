{
 "cells": [
  {
   "cell_type": "markdown",
   "id": "15f6e23c-bad5-4ba2-a0c0-ccb414f6c8cf",
   "metadata": {},
   "source": [
    "# PyEO Orientation: How to get started with PyEO on SEPAL. Nairobi branch."
   ]
  },
  {
   "cell_type": "markdown",
   "id": "dceb065c-ccf1-441d-9bc1-7f870c747ad2",
   "metadata": {},
   "source": [
    "# SEPAL \n",
    "https://docs.sepal.io/en/latest/setup/presentation.html\n",
    "- Take a few minutes to become familiar with the SEPAL UI then continue through this notebook\n"
   ]
  },
  {
   "cell_type": "markdown",
   "id": "5a564427",
   "metadata": {},
   "source": [
    "# Download the First Tutorial Notebook, as follows:\n",
    "- First, click on the Terminal Icon in SEPAL, `>_` \n",
    "- Start a `t1` instance by typing: `t1` and pressing return\n",
    "- Now, type this command into the Terminal:\n",
    "    - `wget https://github.com/clcr/pyeo/raw/main/notebooks/pyeo_sepal_orientation.ipynb`\n"
   ]
  },
  {
   "cell_type": "markdown",
   "id": "6bc04f64-e8d0-489e-ac7d-682e725185cb",
   "metadata": {},
   "source": [
    "# JupyterLab/Notebook Setup"
   ]
  },
  {
   "cell_type": "markdown",
   "id": "e0beffb3-ba4d-4bdc-b75e-624350e4b5a5",
   "metadata": {},
   "source": [
    "- Please click on the Spanner Icon, and select `JupyterLab` from the top of the list of available applications.\n",
    "    - This may take a few minutes to start up the computing instance.\n",
    "- Select the PyEO Kernel - from the dropdown list at the top right of the Jupyter window\n",
    "    - ```(venv) Python for Earth Observation (PyEO)```"
   ]
  },
  {
   "cell_type": "markdown",
   "id": "aafa5c4c-3503-449d-be38-c9717d219dac",
   "metadata": {
    "tags": []
   },
   "source": [
    "- Jupyter operates as a series of cells such as this one\n",
    "- A cell can be either Markdown text or Python code (Selection between the options is via a dropdown at the top of this tab)\n",
    "- A Markdown cell is rendered as text by pressing Shift+Return (double click to edit it again)\n",
    "- A Python cell is executed by pressing Shift+Return"
   ]
  },
  {
   "cell_type": "markdown",
   "id": "360a21d3-3328-432c-a45d-970923d39f32",
   "metadata": {},
   "source": [
    "# Linux FileSystem Setup"
   ]
  },
  {
   "cell_type": "code",
   "execution_count": 1,
   "id": "e56b66ba-8e0c-45ec-ba7e-ff5955b25c68",
   "metadata": {
    "tags": []
   },
   "outputs": [
    {
     "name": "stdout",
     "output_type": "stream",
     "text": [
      "/home/sepal-user/.local/bin:\"/usr/local/sbin:/usr/local/bin:/usr/sbin:/usr/bin:/sbin:/bin:/usr/games:/usr/local/games:/snap/bin\"\n"
     ]
    }
   ],
   "source": [
    "!echo $PATH"
   ]
  },
  {
   "cell_type": "code",
   "execution_count": 2,
   "id": "13f0fa7d-e7f3-4c72-a7fb-6aae16c2f8b9",
   "metadata": {
    "collapsed": true,
    "jupyter": {
     "outputs_hidden": true
    },
    "tags": []
   },
   "outputs": [
    {
     "name": "stdout",
     "output_type": "stream",
     "text": [
      "SHELL=/usr/bin/bash\n",
      "SUDO_GID=0\n",
      "HOSTNAME=8f0562d90ff4\n",
      "SUDO_COMMAND=/usr/bin/bash -c python3 /usr/local/bin/jupyter-notebook --no-browser --allow-root --ip=0.0.0.0 --port=8888 --NotebookApp.token= --NotebookApp.base_url=/api/sandbox/jupyter/ --NotebookApp.notebook_dir=/home/sepal-user --FileContentsManager.delete_to_trash=False --VoilaConfiguration.enable_nbextensions=True --VoilaConfiguration.show_tracebacks=True --ContentsManager.allow_hidden=True\n",
      "SUDO_USER=root\n",
      "PWD=/home/sepal-user/20230626_pyeo_installation/pyeo/notebooks\n",
      "LOGNAME=sepal-user\n",
      "R_LIBS_SITE=/usr/local/lib/R/site-library:/usr/lib/R/site-library:/usr/lib/R/library:/shiny/library\n",
      "_=/usr/bin/printenv\n",
      "HOME=/home/sepal-user\n",
      "LANG=en_US.UTF-8\n",
      "FORCE_COLOR=1\n",
      "PYDEVD_USE_FRAME_EVAL=NO\n",
      "CLICOLOR=1\n",
      "CLICOLOR_FORCE=1\n",
      "R_LIBS_USER=/home/sepal-user/.R/library\n",
      "JPY_PARENT_PID=206\n",
      "TERM=xterm-color\n",
      "USER=sepal-user\n",
      "GIT_PAGER=cat\n",
      "SHLVL=0\n",
      "PAGER=cat\n",
      "PROJ_LIB=/usr/share/proj\n",
      "MPLBACKEND=module://matplotlib_inline.backend_inline\n",
      "LC_CTYPE=C.UTF-8\n",
      "NODE_PATH=:/usr/lib/node_modules:/node_modules\n",
      "LC_ALL=en_US.UTF-8\n",
      "PATH=/home/sepal-user/.local/bin:\"/usr/local/sbin:/usr/local/bin:/usr/sbin:/usr/bin:/sbin:/bin:/usr/games:/usr/local/games:/snap/bin\"\n",
      "SUDO_UID=0\n",
      "MAIL=/var/mail/sepal-user\n"
     ]
    }
   ],
   "source": [
    "!printenv"
   ]
  },
  {
   "cell_type": "code",
   "execution_count": 3,
   "id": "7168854b-0a90-4119-ba0a-3c8467f2bf03",
   "metadata": {
    "tags": []
   },
   "outputs": [
    {
     "name": "stdout",
     "output_type": "stream",
     "text": [
      "/home/sepal-user\n"
     ]
    }
   ],
   "source": [
    "cd ~"
   ]
  },
  {
   "cell_type": "code",
   "execution_count": 4,
   "id": "8bd20e34-6b15-4762-8624-a56d02413266",
   "metadata": {
    "tags": []
   },
   "outputs": [
    {
     "data": {
      "text/plain": [
       "'/home/sepal-user'"
      ]
     },
     "execution_count": 4,
     "metadata": {},
     "output_type": "execute_result"
    }
   ],
   "source": [
    "pwd"
   ]
  },
  {
   "cell_type": "code",
   "execution_count": 5,
   "id": "c5fc5880-12dd-4a5e-84e7-10741e235035",
   "metadata": {
    "tags": []
   },
   "outputs": [
    {
     "name": "stdout",
     "output_type": "stream",
     "text": [
      "total 1553629\n",
      "drwxrws--- 16 sepal-user sepal-user       6144 Jun 27 12:30 \u001b[0m\u001b[01;34m.\u001b[0m/\n",
      "drwxr-xr-x  1 root       root               24 Jun 28 11:33 \u001b[01;34m..\u001b[0m/\n",
      "drwxrwsr-x  4 sepal-user sepal-user       6144 Jun 25 12:26 \u001b[01;34m20230626_pyeo_installation\u001b[0m/\n",
      "-rw-------  1 sepal-user sepal-user       1840 Jun 25 17:31 .bash_history\n",
      "-rw-rw-r--  1 root       sepal-user        220 Feb 13 20:06 .bash_logout\n",
      "-rw-rw-r--  1 root       sepal-user       3771 Feb 13 20:06 .bashrc\n",
      "drwxrwsr-x  5 sepal-user sepal-user       6144 Feb  3 15:13 \u001b[01;34m.cache\u001b[0m/\n",
      "-rw-rw-r--  1 sepal-user sepal-user       1974 Mar  1 13:58 change_detection_config.toml\n",
      "drwxrwsr-x  4 sepal-user sepal-user       6144 Feb 21 16:46 \u001b[01;34m.config\u001b[0m/\n",
      "-rw-rw-r--  1 sepal-user sepal-user         44 Jun 27 12:30 .gitconfig\n",
      "-rw-rw-r--  1 sepal-user sepal-user       5938 Feb 17 17:14 heiko_library_install.ipynb\n",
      "drwxrwsr-x  2 sepal-user sepal-user       6144 Jun 25 08:14 \u001b[01;34m.ipynb_checkpoints\u001b[0m/\n",
      "drwxrwsr-x  3 sepal-user sepal-user       6144 Feb  3 15:09 \u001b[01;34m.ipython\u001b[0m/\n",
      "drwxrwsr-x  4 sepal-user sepal-user       6144 Jun 25 08:07 \u001b[01;34m.jupyter\u001b[0m/\n",
      "drwxrwsr-x  5 sepal-user sepal-user       6144 Feb  3 16:15 \u001b[01;34m.local\u001b[0m/\n",
      "drwxr-sr-x  3 sepal-user sepal-user       6144 Feb  3 13:52 \u001b[01;34m.log\u001b[0m/\n",
      "-rw-rw-r--  1 sepal-user sepal-user 1590738816 Feb 13 20:31 mato_rf_toby_1_ir_pkl_converted.pkl\n",
      "-rw-rw-r--  1 root       sepal-user        807 Feb 13 20:06 .profile\n",
      "-rw-rw-r--  1 sepal-user sepal-user      47643 Jun 25 08:35 pyeo_sepal_orientation.ipynb\n",
      "drwxrwsr-x  5       9999 sepal-user      33280 Jun  7 09:19 \u001b[01;34mshared\u001b[0m/\n",
      "drwxr-sr-x  2 sepal-user sepal-user       6144 Feb  3 13:52 \u001b[01;34m.shiny\u001b[0m/\n",
      "drwxr-sr-x  2 root       sepal-user       6144 Feb  3 13:52 \u001b[01;34m.ssh\u001b[0m/\n",
      "drwxrwsrwt  2 root       sepal-user       6144 Jun 28 11:41 \u001b[30;42mtmp\u001b[0m/\n",
      "drwx--S---  2 sepal-user sepal-user       6144 Jun 27 08:54 \u001b[01;34mtmpfpeown2v\u001b[0m/\n",
      "drwx--S---  2 sepal-user sepal-user       6144 Jun 27 07:19 \u001b[01;34mtmppaq1d2cq\u001b[0m/\n",
      "-rw-rw-r--  1 sepal-user sepal-user        215 Jun 25 08:53 .wget-hsts\n"
     ]
    }
   ],
   "source": [
    "ls -al"
   ]
  },
  {
   "cell_type": "markdown",
   "id": "4b013f4a-121c-4dfc-b78b-35bf812794f7",
   "metadata": {
    "tags": []
   },
   "source": [
    "- Create an installation directory to hold PyEO\n",
    "- We can use a relative path as we know our starting point in the filing system"
   ]
  },
  {
   "cell_type": "code",
   "execution_count": 6,
   "id": "c91c9288-aa96-4993-a453-9dab07c2b482",
   "metadata": {
    "tags": []
   },
   "outputs": [
    {
     "name": "stdout",
     "output_type": "stream",
     "text": [
      "mkdir: cannot create directory ‘./20230626_pyeo_installation’: File exists\n"
     ]
    }
   ],
   "source": [
    "mkdir ./20230626_pyeo_installation"
   ]
  },
  {
   "cell_type": "code",
   "execution_count": 7,
   "id": "cb6de4b3-5a74-4975-8743-6e9ed54fbc26",
   "metadata": {
    "tags": []
   },
   "outputs": [
    {
     "name": "stdout",
     "output_type": "stream",
     "text": [
      "total 1553565\n",
      "drwxrwsr-x 4 sepal-user sepal-user       6144 Jun 25 12:26 \u001b[0m\u001b[01;34m20230626_pyeo_installation\u001b[0m/\n",
      "-rw-rw-r-- 1 sepal-user sepal-user       1974 Mar  1 13:58 change_detection_config.toml\n",
      "-rw-rw-r-- 1 sepal-user sepal-user       5938 Feb 17 17:14 heiko_library_install.ipynb\n",
      "-rw-rw-r-- 1 sepal-user sepal-user 1590738816 Feb 13 20:31 mato_rf_toby_1_ir_pkl_converted.pkl\n",
      "-rw-rw-r-- 1 sepal-user sepal-user      47643 Jun 25 08:35 pyeo_sepal_orientation.ipynb\n",
      "drwxrwsr-x 5       9999 sepal-user      33280 Jun  7 09:19 \u001b[01;34mshared\u001b[0m/\n",
      "drwxrwsrwt 2 root       sepal-user       6144 Jun 28 11:41 \u001b[30;42mtmp\u001b[0m/\n",
      "drwx--S--- 2 sepal-user sepal-user       6144 Jun 27 08:54 \u001b[01;34mtmpfpeown2v\u001b[0m/\n",
      "drwx--S--- 2 sepal-user sepal-user       6144 Jun 27 07:19 \u001b[01;34mtmppaq1d2cq\u001b[0m/\n"
     ]
    }
   ],
   "source": [
    "ls -l"
   ]
  },
  {
   "cell_type": "markdown",
   "id": "339eac71-ff90-4b27-8b43-0292cd5a86f9",
   "metadata": {},
   "source": [
    "- Move into the installation directory ready to install PyEO"
   ]
  },
  {
   "cell_type": "code",
   "execution_count": 8,
   "id": "1dd6156c-222b-48cb-9e59-912908549dc2",
   "metadata": {
    "tags": []
   },
   "outputs": [
    {
     "name": "stdout",
     "output_type": "stream",
     "text": [
      "/home/sepal-user/20230626_pyeo_installation\n"
     ]
    }
   ],
   "source": [
    "cd /home/sepal-user/20230626_pyeo_installation"
   ]
  },
  {
   "cell_type": "code",
   "execution_count": 9,
   "id": "c49c69f8-9c70-45af-8f5e-545c79d73f25",
   "metadata": {
    "tags": []
   },
   "outputs": [
    {
     "data": {
      "text/plain": [
       "'/home/sepal-user/20230626_pyeo_installation'"
      ]
     },
     "execution_count": 9,
     "metadata": {},
     "output_type": "execute_result"
    }
   ],
   "source": [
    "pwd"
   ]
  },
  {
   "cell_type": "code",
   "execution_count": 10,
   "id": "27c1ac68-d77a-45f3-814a-61099b0027d3",
   "metadata": {},
   "outputs": [],
   "source": [
    "# Installation directory exists but is empty for now.."
   ]
  },
  {
   "cell_type": "code",
   "execution_count": 11,
   "id": "d7d44c2b-8b1d-4002-8033-6c72ec458086",
   "metadata": {
    "tags": []
   },
   "outputs": [
    {
     "name": "stdout",
     "output_type": "stream",
     "text": [
      "total 16\n",
      "drwxrwsr-x  4 sepal-user sepal-user 6144 Jun 25 12:26 \u001b[0m\u001b[01;34m.\u001b[0m/\n",
      "drwxrws--- 16 sepal-user sepal-user 6144 Jun 27 12:30 \u001b[01;34m..\u001b[0m/\n",
      "drwxrwsr-x  6 sepal-user sepal-user 6144 Jun 25 12:26 \u001b[01;34m36NXG\u001b[0m/\n",
      "drwxrwsr-x 16 sepal-user sepal-user 6144 Jun 28 11:46 \u001b[01;34mpyeo\u001b[0m/\n"
     ]
    }
   ],
   "source": [
    "ls -al"
   ]
  },
  {
   "cell_type": "markdown",
   "id": "c729f056-a2f7-4b27-8520-b01357099629",
   "metadata": {},
   "source": [
    "# PyEO Code-Base Setup using GIT and GitHub"
   ]
  },
  {
   "cell_type": "code",
   "execution_count": 12,
   "id": "e864c4eb-b221-4fc6-95f4-4554e7c69a99",
   "metadata": {
    "tags": []
   },
   "outputs": [
    {
     "name": "stdout",
     "output_type": "stream",
     "text": [
      "git version 2.25.1\n"
     ]
    }
   ],
   "source": [
    "!git --version"
   ]
  },
  {
   "cell_type": "code",
   "execution_count": 13,
   "id": "80e14c0a-73e6-4ebd-be59-63103ac90d32",
   "metadata": {
    "tags": []
   },
   "outputs": [
    {
     "data": {
      "text/plain": [
       "'/home/sepal-user/20230626_pyeo_installation'"
      ]
     },
     "execution_count": 13,
     "metadata": {},
     "output_type": "execute_result"
    }
   ],
   "source": [
    "pwd"
   ]
  },
  {
   "cell_type": "code",
   "execution_count": 14,
   "id": "0fd90e68-5891-4eee-8484-468a8ae72af4",
   "metadata": {
    "tags": []
   },
   "outputs": [
    {
     "name": "stdout",
     "output_type": "stream",
     "text": [
      "fatal: destination path 'pyeo' already exists and is not an empty directory.\n"
     ]
    }
   ],
   "source": [
    "!git clone https://github.com/clcr/pyeo.git"
   ]
  },
  {
   "cell_type": "code",
   "execution_count": 15,
   "id": "165ea144-21aa-4e31-8074-ce7a0d874190",
   "metadata": {
    "tags": []
   },
   "outputs": [
    {
     "name": "stdout",
     "output_type": "stream",
     "text": [
      "/home/sepal-user/20230626_pyeo_installation/pyeo\n"
     ]
    }
   ],
   "source": [
    "cd ./pyeo"
   ]
  },
  {
   "cell_type": "code",
   "execution_count": 16,
   "id": "467bf268-4edc-4f57-a09e-208402cc3b5e",
   "metadata": {
    "tags": []
   },
   "outputs": [
    {
     "data": {
      "text/plain": [
       "'/home/sepal-user/20230626_pyeo_installation/pyeo'"
      ]
     },
     "execution_count": 16,
     "metadata": {},
     "output_type": "execute_result"
    }
   ],
   "source": [
    "pwd"
   ]
  },
  {
   "cell_type": "code",
   "execution_count": 17,
   "id": "42b13718-0410-4b95-84aa-88335229a75f",
   "metadata": {
    "tags": []
   },
   "outputs": [
    {
     "name": "stdout",
     "output_type": "stream",
     "text": [
      "total 196\n",
      "drwxrwsr-x 16 sepal-user sepal-user  6144 Jun 28 11:46 \u001b[0m\u001b[01;34m.\u001b[0m/\n",
      "drwxrwsr-x  4 sepal-user sepal-user  6144 Jun 25 12:26 \u001b[01;34m..\u001b[0m/\n",
      "drwxrwsr-x  2 sepal-user sepal-user  6144 Jun 25 08:19 \u001b[01;34mbin\u001b[0m/\n",
      "drwxrwsr-x  3 sepal-user sepal-user  6144 Jun 25 12:44 \u001b[01;34mcredentials\u001b[0m/\n",
      "drwxrwsr-x  2 sepal-user sepal-user  6144 Jun 25 08:19 \u001b[01;34mdata\u001b[0m/\n",
      "drwxrwsr-x  4 sepal-user sepal-user  6144 Jun 25 08:19 \u001b[01;34mdocs\u001b[0m/\n",
      "-rw-rw-r--  1 sepal-user sepal-user   342 Jun 25 08:19 environment_conda_343.yml\n",
      "-rw-rw-r--  1 sepal-user sepal-user  8413 Jun 25 08:19 environment_conda_linux.yml\n",
      "-rw-rw-r--  1 sepal-user sepal-user  7343 Jun 25 08:19 environment_conda_windows.yml\n",
      "drwxrwsr-x  2 sepal-user sepal-user  6144 Jun 25 08:19 \u001b[01;34mgeometry\u001b[0m/\n",
      "drwxrwsr-x  8 sepal-user sepal-user  6144 Jun 27 12:34 \u001b[01;34m.git\u001b[0m/\n",
      "-rw-rw-r--  1 sepal-user sepal-user    66 Jun 25 08:19 .gitattributes\n",
      "-rw-rw-r--  1 sepal-user sepal-user  3349 Jun 25 08:19 .gitignore\n",
      "drwxrwsr-x  2 sepal-user sepal-user  6144 Jun 25 12:14 \u001b[01;34m.ipynb_checkpoints\u001b[0m/\n",
      "-rw-rw-r--  1 sepal-user sepal-user 35129 Jun 25 08:19 LICENSE\n",
      "drwxrwsr-x  3 sepal-user sepal-user  6144 Jun 25 12:18 \u001b[01;34mlog\u001b[0m/\n",
      "drwxrwsr-x  4 sepal-user sepal-user  6144 Jun 25 08:19 \u001b[01;34mmodels\u001b[0m/\n",
      "drwxrwsr-x  3 sepal-user sepal-user  6144 Jun 27 12:27 \u001b[01;34mnotebooks\u001b[0m/\n",
      "drwxrwsr-x  6 sepal-user sepal-user  6144 Jun 25 08:22 \u001b[01;34mpyeo\u001b[0m/\n",
      "-rw-rw-r--  1 sepal-user sepal-user  5483 Jun 25 08:19 pyeo.ini\n",
      "-rw-rw-r--  1 sepal-user sepal-user  7527 Jun 25 08:19 pyeo_linux.ini\n",
      "-rw-rw-r--  1 sepal-user sepal-user  7477 Jun 28 11:46 pyeo_sepal.ini\n",
      "-rw-rw-r--  1 sepal-user sepal-user  8013 Jun 25 08:19 pyeo.svg\n",
      "-rw-rw-r--  1 sepal-user sepal-user  7609 Jun 25 08:19 pyeo_windows.ini\n",
      "-rw-rw-r--  1 sepal-user sepal-user   215 Jun 25 08:19 pytest.ini\n",
      "drwxrwsr-x  3 sepal-user sepal-user  6144 Jun 25 08:19 \u001b[01;34mqgis\u001b[0m/\n",
      "-rw-rw-r--  1 sepal-user sepal-user 10385 Jun 25 08:19 README.md\n",
      "-rw-rw-r--  1 sepal-user sepal-user  2546 Jun 25 08:20 requirements.txt\n",
      "drwxrwsr-x  3 sepal-user sepal-user  6144 Jun 25 12:25 \u001b[01;34mroi\u001b[0m/\n",
      "-rw-rw-r--  1 sepal-user sepal-user   727 Jun 25 08:20 setup.py\n",
      "drwx--S---  2 sepal-user sepal-user  6144 Jun 25 15:31 \u001b[01;34mtmp_0l71ftr\u001b[0m/\n"
     ]
    }
   ],
   "source": [
    "ls -al"
   ]
  },
  {
   "cell_type": "code",
   "execution_count": 18,
   "id": "3d49ee63-2978-4dd1-9ca9-58c1c1423df4",
   "metadata": {
    "tags": []
   },
   "outputs": [
    {
     "name": "stdout",
     "output_type": "stream",
     "text": [
      "total 632\n",
      "drwxrwsr-x  6 sepal-user sepal-user   6144 Jun 25 08:22 \u001b[0m\u001b[01;34m.\u001b[0m/\n",
      "drwxrwsr-x 16 sepal-user sepal-user   6144 Jun 28 11:46 \u001b[01;34m..\u001b[0m/\n",
      "-rw-rw-r--  1 sepal-user sepal-user  42741 Jun 25 08:19 acd_national.py\n",
      "drwxrwsr-x 12 sepal-user sepal-user   6144 Jun 25 12:11 \u001b[01;34mapps\u001b[0m/\n",
      "-rw-rw-r--  1 sepal-user sepal-user    372 Jun 25 08:19 array_utilities.py\n",
      "drwxrwsr-x  2 sepal-user sepal-user   6144 Jun 25 08:19 \u001b[01;34massets\u001b[0m/\n",
      "-rw-rw-r--  1 sepal-user sepal-user    928 Jun 25 08:19 cirrus_correction.py\n",
      "-rw-rw-r--  1 sepal-user sepal-user  75628 Jun 25 08:19 classification.py\n",
      "-rw-rw-r--  1 sepal-user sepal-user  19727 Jun 25 08:19 coordinate_manipulation.py\n",
      "-rw-rw-r--  1 sepal-user sepal-user    853 Jun 25 08:19 exceptions.py\n",
      "-rw-rw-r--  1 sepal-user sepal-user  44331 Jun 25 08:19 filesystem_utilities.py\n",
      "-rw-rw-r--  1 sepal-user sepal-user      0 Jun 25 08:19 __init__.py\n",
      "-rw-rw-r--  1 sepal-user sepal-user   5677 Jun 25 08:19 L2A_GIPP.xml\n",
      "-rw-rw-r--  1 sepal-user sepal-user    546 Jun 25 08:19 plotting.py\n",
      "drwxrwsr-x  2 sepal-user sepal-user   6144 Jun 25 12:11 \u001b[01;34m__pycache__\u001b[0m/\n",
      "-rw-rw-r--  1 sepal-user sepal-user  91219 Jun 25 08:19 queries_and_downloads.py\n",
      "-rw-rw-r--  1 sepal-user sepal-user 240287 Jun 25 08:19 raster_manipulation.py\n",
      "-rw-rw-r--  1 sepal-user sepal-user    386 Jun 25 08:19 run_acd_national.py\n",
      "-rw-rw-r--  1 sepal-user sepal-user  13122 Jun 25 08:19 terrain_correction.py\n",
      "drwxrwsr-x  4 sepal-user sepal-user   6144 Jun 25 08:19 \u001b[01;34mtests\u001b[0m/\n",
      "-rw-rw-r--  1 sepal-user sepal-user  17677 Jun 25 08:19 validation.py\n",
      "-rw-rw-r--  1 sepal-user sepal-user  22364 Jun 25 08:19 vectorisation.py\n",
      "-rw-rw-r--  1 sepal-user sepal-user   3044 Jun 25 08:19 windows_compatability.py\n"
     ]
    }
   ],
   "source": [
    "ls -al ./pyeo"
   ]
  },
  {
   "cell_type": "code",
   "execution_count": 19,
   "id": "8abdd77b-9ca2-4a63-9366-43f04a862e62",
   "metadata": {
    "tags": []
   },
   "outputs": [
    {
     "name": "stdout",
     "output_type": "stream",
     "text": [
      "  \u001b[31morigin/20230612_Windows_tested_version\u001b[m\n",
      "  \u001b[31morigin/Credentials_and_Composite_Download_Indent_Bug_Fixes\u001b[m\n",
      "  \u001b[31morigin/DataSpace_Download_Testing_and_Fixing\u001b[m\n",
      "  \u001b[31morigin/Full_S2_waveband_set_processing\u001b[m\n",
      "  \u001b[31morigin/HEAD\u001b[m -> origin/main\n",
      "  \u001b[31morigin/Modifications_for_Windows\u001b[m\n",
      "  \u001b[31morigin/Windows_Platform_Changes\u001b[m\n",
      "  \u001b[31morigin/acd_national\u001b[m\n",
      "  \u001b[31morigin/acd_national_update\u001b[m\n",
      "  \u001b[31morigin/acd_national_update_3\u001b[m\n",
      "  \u001b[31morigin/automation_experimentation\u001b[m\n",
      "  \u001b[31morigin/automation_integration\u001b[m\n",
      "  \u001b[31morigin/baseline_flexible_function\u001b[m\n",
      "  \u001b[31morigin/black\u001b[m\n",
      "  \u001b[31morigin/dataspace_downloads_change_imagery\u001b[m\n",
      "  \u001b[31morigin/dataspace_refresh\u001b[m\n",
      "  \u001b[31morigin/dataspace_server_errors\u001b[m\n",
      "  \u001b[31morigin/dataspace_testing_4\u001b[m\n",
      "  \u001b[31morigin/dataspace_uniqueness\u001b[m\n",
      "  \u001b[31morigin/environment_jupyter_yml\u001b[m\n",
      "  \u001b[31morigin/environment_yaml\u001b[m\n",
      "  \u001b[31morigin/gitignore\u001b[m\n",
      "  \u001b[31morigin/image-acquisition-pipeline\u001b[m\n",
      "  \u001b[31morigin/installation-environment-reorganisation\u001b[m\n",
      "  \u001b[31morigin/ipynb-checkpoint-deletion\u001b[m\n",
      "  \u001b[31morigin/ireading-uol-patch-1\u001b[m\n",
      "  \u001b[31morigin/l2a_query_handling_more_than_1_fmatch\u001b[m\n",
      "  \u001b[31morigin/logs\u001b[m\n",
      "  \u001b[31morigin/main\u001b[m\n",
      "  \u001b[31morigin/n_band_merge\u001b[m\n",
      "  \u001b[31morigin/national_vectorisation_py\u001b[m\n",
      "  \u001b[31morigin/new_download_pipeline_test\u001b[m\n",
      "  \u001b[31morigin/notebook_updates\u001b[m\n",
      "  \u001b[31morigin/os_sep_integration\u001b[m\n",
      "  \u001b[31morigin/pyeo_refactor\u001b[m\n",
      "  \u001b[31morigin/readme_update\u001b[m\n",
      "  \u001b[31morigin/readme_updating\u001b[m\n",
      "  \u001b[31morigin/report_extensions\u001b[m\n",
      "  \u001b[31morigin/sepal_model_training\u001b[m\n",
      "  \u001b[31morigin/sepal_orientation_update\u001b[m\n",
      "  \u001b[31morigin/sepal_testing\u001b[m\n",
      "  \u001b[31morigin/sepal_tutorial_updating\u001b[m\n",
      "  \u001b[31morigin/sepal_tutorials\u001b[m\n",
      "  \u001b[31morigin/sepal_venv\u001b[m\n",
      "  \u001b[31morigin/training_notebook_update\u001b[m\n",
      "  \u001b[31morigin/training_notebook_update_2\u001b[m\n",
      "  \u001b[31morigin/tutorial_data\u001b[m\n",
      "  \u001b[31morigin/tutorial_shapefile_upload\u001b[m\n",
      "  \u001b[31morigin/tutorial_update\u001b[m\n",
      "  \u001b[31morigin/vectorisation\u001b[m\n",
      "  \u001b[31morigin/venv_amendment\u001b[m\n"
     ]
    }
   ],
   "source": [
    "!git branch -r"
   ]
  },
  {
   "cell_type": "code",
   "execution_count": 20,
   "id": "023804fa-29d5-49d8-b18e-506113cbae80",
   "metadata": {
    "tags": []
   },
   "outputs": [
    {
     "name": "stdout",
     "output_type": "stream",
     "text": [
      "error: Your local changes to the following files would be overwritten by checkout:\n",
      "\tnotebooks/pyeo_sepal_pipeline_training.ipynb\n",
      "Please commit your changes or stash them before you switch branches.\n",
      "Aborting\n"
     ]
    }
   ],
   "source": [
    "!git switch Windows_Platform_Changes"
   ]
  },
  {
   "cell_type": "markdown",
   "id": "24d5ac02-7004-49fc-9618-8767601aaf70",
   "metadata": {},
   "source": [
    "# Python Basics and Import of PyEO"
   ]
  },
  {
   "cell_type": "code",
   "execution_count": 21,
   "id": "89d7834f-3f4b-4a7b-962c-9e7f4b4c0f96",
   "metadata": {
    "tags": []
   },
   "outputs": [
    {
     "data": {
      "text/plain": [
       "7"
      ]
     },
     "execution_count": 21,
     "metadata": {},
     "output_type": "execute_result"
    }
   ],
   "source": [
    "# Computation\n",
    "3+4"
   ]
  },
  {
   "cell_type": "code",
   "execution_count": 22,
   "id": "0acf67bd-1327-4369-b812-814146d9ec72",
   "metadata": {
    "tags": []
   },
   "outputs": [],
   "source": [
    "# Library Importing\n",
    "import sys"
   ]
  },
  {
   "cell_type": "code",
   "execution_count": 23,
   "id": "21845dac-879e-408c-8728-a6960cc3f9bb",
   "metadata": {
    "tags": []
   },
   "outputs": [
    {
     "data": {
      "text/plain": [
       "'3.8.10 (default, May 26 2023, 14:05:08) \\n[GCC 9.4.0]'"
      ]
     },
     "execution_count": 23,
     "metadata": {},
     "output_type": "execute_result"
    }
   ],
   "source": [
    "# Check Python Version\n",
    "sys.version"
   ]
  },
  {
   "cell_type": "code",
   "execution_count": 24,
   "id": "903775df-b633-437b-af9f-057738fdfd00",
   "metadata": {
    "collapsed": true,
    "jupyter": {
     "outputs_hidden": true
    },
    "tags": []
   },
   "outputs": [
    {
     "name": "stdout",
     "output_type": "stream",
     "text": [
      "Package                           Version              Editable project location\n",
      "--------------------------------- -------------------- ---------------------------------\n",
      "absl-py                           1.4.0\n",
      "affine                            2.4.0\n",
      "aiofiles                          22.1.0\n",
      "aiohttp                           3.8.4\n",
      "aiosignal                         1.3.1\n",
      "aiosqlite                         0.19.0\n",
      "alabaster                         0.7.13\n",
      "anyio                             3.7.0\n",
      "appdirs                           1.4.3\n",
      "argon2-cffi                       21.3.0\n",
      "argon2-cffi-bindings              21.2.0\n",
      "arrow                             1.2.3\n",
      "astroid                           2.15.5\n",
      "asttokens                         2.2.1\n",
      "astunparse                        1.6.3\n",
      "async-lru                         2.0.2\n",
      "async-timeout                     4.0.2\n",
      "attrs                             23.1.0\n",
      "awscli                            1.27.154\n",
      "Babel                             2.12.1\n",
      "backcall                          0.2.0\n",
      "beautifulsoup4                    4.12.2\n",
      "bfast                             0.8.dev0\n",
      "billiard                          4.1.0\n",
      "biota                             0.3\n",
      "bleach                            6.0.0\n",
      "blinker                           1.4\n",
      "bokeh                             3.1.1\n",
      "boto3                             1.26.154\n",
      "botocore                          1.29.154\n",
      "bqplot                            0.12.39\n",
      "branca                            0.6.0\n",
      "cachetools                        5.3.1\n",
      "cadati                            0.0.4\n",
      "certifi                           2019.11.28\n",
      "cffi                              1.15.1\n",
      "cfgv                              3.3.1\n",
      "cftime                            1.6.2\n",
      "chardet                           3.0.4\n",
      "charset-normalizer                3.1.0\n",
      "click                             8.1.3\n",
      "click-plugins                     1.1.1\n",
      "cligj                             0.7.2\n",
      "cloudpickle                       2.2.1\n",
      "colorama                          0.4.4\n",
      "colour                            0.1.5\n",
      "comm                              0.1.3\n",
      "configobj                         5.0.8\n",
      "configparser                      5.3.0\n",
      "contourpy                         1.1.0\n",
      "coverage                          7.2.7\n",
      "cryptography                      2.8\n",
      "cupshelpers                       1.0\n",
      "cycler                            0.11.0\n",
      "Cython                            0.29.35\n",
      "dask                              2023.5.0\n",
      "dask-geopandas                    0.3.1\n",
      "dateutils                         0.6.12\n",
      "dbus-python                       1.2.16\n",
      "debugpy                           1.6.7\n",
      "decorator                         5.1.1\n",
      "defer                             1.0.6\n",
      "deforest                          0.1\n",
      "defusedxml                        0.7.1\n",
      "Deprecated                        1.2.14\n",
      "descartes                         1.1.0\n",
      "dill                              0.3.6\n",
      "distlib                           0.3.6\n",
      "distributed                       2023.5.0\n",
      "distro                            1.4.0\n",
      "distro-info                       0.23ubuntu1\n",
      "dm-tree                           0.1.8\n",
      "docopt                            0.6.2\n",
      "docutils                          0.16\n",
      "earthengine-api                   0.1.343\n",
      "ee-extra                          0.0.15\n",
      "eerepr                            0.0.4\n",
      "entrypoints                       0.3\n",
      "et-xmlfile                        1.1.0\n",
      "exceptiongroup                    1.1.1\n",
      "executing                         1.2.0\n",
      "falcon                            3.1.1\n",
      "fastjsonschema                    2.17.1\n",
      "ffmpeg-python                     0.2.0\n",
      "filelock                          3.12.2\n",
      "Fiona                             1.9.4.post1\n",
      "flatbuffers                       2.0.7\n",
      "folium                            0.14.0\n",
      "fonttools                         4.40.0\n",
      "fqdn                              1.5.1\n",
      "frozenlist                        1.3.3\n",
      "fsspec                            2023.6.0\n",
      "future                            0.18.3\n",
      "gast                              0.4.0\n",
      "GDAL                              3.4.3\n",
      "gdown                             4.7.1\n",
      "geeadd                            0.5.6\n",
      "geemap                            0.20.4\n",
      "geocoder                          1.38.1\n",
      "geojson                           3.0.1\n",
      "geopandas                         0.10.2\n",
      "godale                            0.3\n",
      "google-api-core                   1.34.0\n",
      "google-api-python-client          1.12.8\n",
      "google-auth                       2.20.0\n",
      "google-auth-httplib2              0.1.0\n",
      "google-auth-oauthlib              1.0.0\n",
      "google-cloud-core                 2.3.2\n",
      "google-cloud-storage              2.9.0\n",
      "google-crc32c                     1.5.0\n",
      "google-pasta                      0.2.0\n",
      "google-resumable-media            2.5.0\n",
      "googleapis-common-protos          1.59.1\n",
      "grpcio                            1.54.2\n",
      "gunicorn                          20.1.0\n",
      "h11                               0.12.0\n",
      "h5py                              3.8.0\n",
      "httpcore                          0.15.0\n",
      "httplib2                          0.22.0\n",
      "httpx                             0.23.0\n",
      "identify                          2.5.24\n",
      "idna                              2.8\n",
      "imageio                           2.31.1\n",
      "imagesize                         1.4.1\n",
      "importlib-metadata                6.6.0\n",
      "importlib-resources               5.12.0\n",
      "ipyevents                         2.0.1\n",
      "ipyfilechooser                    0.6.0\n",
      "ipykernel                         6.23.2\n",
      "ipyleaflet                        0.17.3\n",
      "ipyspin                           1.0.1\n",
      "ipython                           8.12.2\n",
      "ipython-genutils                  0.2.0\n",
      "ipytree                           0.2.2\n",
      "ipyurl                            0.1.3\n",
      "ipyvue                            1.9.1\n",
      "ipyvuetify                        1.8.2\n",
      "ipywidgets                        7.7.2\n",
      "isoduration                       20.11.0\n",
      "isort                             5.12.0\n",
      "jedi                              0.18.2\n",
      "Jinja2                            3.0.3\n",
      "jmespath                          1.0.1\n",
      "joblib                            1.2.0\n",
      "json5                             0.9.14\n",
      "jsonpointer                       2.3\n",
      "jsonschema                        4.17.3\n",
      "jupyter                           1.0.0\n",
      "jupyter_client                    7.4.1\n",
      "jupyter-console                   6.6.3\n",
      "jupyter-contrib-core              0.4.2\n",
      "jupyter-contrib-nbextensions      0.7.0                /jupyter_contrib_nbextensions/src\n",
      "jupyter_core                      5.3.1\n",
      "jupyter-events                    0.6.3\n",
      "jupyter-highlight-selected-word   0.2.0\n",
      "jupyter-latex-envs                1.4.6\n",
      "jupyter-lsp                       2.2.0\n",
      "jupyter-nbextensions-configurator 0.6.3\n",
      "jupyter-server                    1.24.0\n",
      "jupyter_server_fileid             0.9.0\n",
      "jupyter_server_proxy              4.0.0\n",
      "jupyter_server_terminals          0.4.4\n",
      "jupyter_server_xarray_leaflet     0.2.3\n",
      "jupyter_server_ydoc               0.8.0\n",
      "jupyter-ydoc                      0.2.4\n",
      "jupyterlab                        3.6.4\n",
      "jupyterlab-language-pack-es-ES    4.0.post0\n",
      "jupyterlab-language-pack-fr-FR    4.0.post0\n",
      "jupyterlab-pygments               0.2.2\n",
      "jupyterlab_server                 2.23.0\n",
      "jupyterlab-widgets                1.1.4\n",
      "keras                             2.7.0\n",
      "Keras-Preprocessing               1.1.2\n",
      "keyring                           18.0.1\n",
      "kiwisolver                        1.4.4\n",
      "language-selector                 0.1\n",
      "launchpadlib                      1.10.13\n",
      "lazr.restfulclient                0.14.2\n",
      "lazr.uri                          1.0.3\n",
      "lazy_loader                       0.2\n",
      "lazy-object-proxy                 1.9.0\n",
      "lckr-jupyterlab-variableinspector 3.0.9\n",
      "libclang                          16.0.0\n",
      "llvmlite                          0.40.0\n",
      "locket                            1.0.0\n",
      "logzero                           1.7.0\n",
      "lxml                              4.9.2\n",
      "lz4                               4.3.2\n",
      "macaroonbakery                    1.3.1\n",
      "Markdown                          3.4.3\n",
      "MarkupSafe                        2.1.3\n",
      "matplotlib                        3.7.1\n",
      "matplotlib-inline                 0.1.6\n",
      "mccabe                            0.7.0\n",
      "mercantile                        1.2.1\n",
      "mistune                           2.0.5\n",
      "more-itertools                    4.2.0\n",
      "msgpack                           1.0.5\n",
      "multidict                         6.0.4\n",
      "natsort                           8.3.1\n",
      "nbclassic                         1.0.0\n",
      "nbclient                          0.7.4\n",
      "nbconvert                         7.5.0\n",
      "nbformat                          5.9.0\n",
      "nest-asyncio                      1.5.6\n",
      "netCDF4                           1.6.4\n",
      "networkx                          3.1\n",
      "nodeenv                           1.8.0\n",
      "nose                              1.3.7\n",
      "nosexcover                        1.0.11\n",
      "notebook                          6.5.4\n",
      "notebook_shim                     0.2.3\n",
      "nrt                               0.1.0\n",
      "numba                             0.57.0\n",
      "numpy                             1.24.3\n",
      "numpydoc                          1.2.1\n",
      "oauth2client                      4.1.3\n",
      "oauthlib                          3.1.0\n",
      "oeel                              0.9.8.1\n",
      "openpyxl                          3.1.2\n",
      "opensartoolkit                    0.12.5\n",
      "opt-einsum                        3.3.0\n",
      "overrides                         7.3.1\n",
      "packaging                         23.1\n",
      "pandas                            2.0.2\n",
      "pandocfilters                     1.5.0\n",
      "parso                             0.8.3\n",
      "partd                             1.4.0\n",
      "patsy                             0.5.3\n",
      "pbr                               5.11.1\n",
      "pexpect                           4.8.0\n",
      "pickleshare                       0.7.5\n",
      "Pillow                            9.5.0\n",
      "pip                               23.0\n",
      "pipreqs                           0.4.13\n",
      "pkgutil_resolve_name              1.3.10\n",
      "planet                            2.0a6\n",
      "platformdirs                      3.5.3\n",
      "plotly                            5.15.0\n",
      "pre-commit                        3.3.3\n",
      "prometheus-client                 0.17.0\n",
      "prompt-toolkit                    3.0.38\n",
      "protobuf                          3.20.3\n",
      "psutil                            5.9.5\n",
      "psycopg2-binary                   2.9.6\n",
      "ptyprocess                        0.7.0\n",
      "pure-eval                         0.2.2\n",
      "pyarrow                           12.0.1\n",
      "pyasn1                            0.5.0\n",
      "pyasn1-modules                    0.3.0\n",
      "pycairo                           1.16.2\n",
      "pycparser                         2.21\n",
      "PyCRS                             1.0.2\n",
      "pycrypto                          2.6.1\n",
      "pycups                            1.9.73\n",
      "pygeobase                         0.6.2\n",
      "pygeogrids                        0.4.2\n",
      "Pygments                          2.15.1\n",
      "PyGObject                         3.36.0\n",
      "PyJWT                             2.7.0\n",
      "pykdtree                          1.3.7.post0\n",
      "pylint                            2.17.4\n",
      "pymacaroons                       0.13.0\n",
      "PyNaCl                            1.3.0\n",
      "pynetcf                           0.5.0\n",
      "pyopencl                          2023.1\n",
      "pyparsing                         3.0.9\n",
      "PyPDF2                            3.0.1\n",
      "pyperclip                         1.8.2\n",
      "pyproj                            2.6.1\n",
      "pyresample                        1.26.0.post0\n",
      "pyRFC3339                         1.1\n",
      "pyrsistent                        0.19.3\n",
      "pyshp                             2.3.1\n",
      "PySocks                           1.7.1\n",
      "pytesmo                           0.15.2\n",
      "python-apt                        2.0.1+ubuntu0.20.4.1\n",
      "python-box                        7.0.1\n",
      "python-dateutil                   2.8.2\n",
      "python-debian                     0.1.36ubuntu1\n",
      "python-json-logger                2.0.7\n",
      "pytools                           2022.1.14\n",
      "pytz                              2023.3\n",
      "PyWavelets                        1.4.1\n",
      "PyYAML                            5.4.1\n",
      "pyzmq                             25.1.0\n",
      "qtconsole                         5.4.3\n",
      "QtPy                              2.3.1\n",
      "rasterio                          1.3.7\n",
      "ratelim                           0.1.6\n",
      "repurpose                         0.9\n",
      "requests                          2.31.0\n",
      "requests-oauthlib                 1.3.1\n",
      "requests-unixsocket               0.2.0\n",
      "retrying                          1.3.4\n",
      "rfc3339-validator                 0.1.4\n",
      "rfc3986                           1.5.0\n",
      "rfc3986-validator                 0.1.1\n",
      "rioxarray                         0.13.4\n",
      "rsa                               4.7.2\n",
      "Rtree                             1.0.1\n",
      "s3transfer                        0.6.1\n",
      "sankee                            0.2.3\n",
      "scikit-image                      0.21.0\n",
      "scikit-learn                      1.2.2\n",
      "scipy                             1.10.1\n",
      "scooby                            0.7.2\n",
      "seaborn                           0.12.2\n",
      "SecretStorage                     2.3.1\n",
      "sen2mosaic                        0.2\n",
      "Send2Trash                        1.8.2\n",
      "sepal-ui                          2.15.2\n",
      "setuptools                        45.2.0\n",
      "shapely                           2.0.1\n",
      "shapely-geojson                   0.0.1\n",
      "simpervisor                       1.0.0\n",
      "simplejson                        3.16.0\n",
      "six                               1.14.0\n",
      "sniffio                           1.3.0\n",
      "snowballstemmer                   2.2.0\n",
      "snuggs                            1.4.7\n",
      "sortedcontainers                  2.4.0\n",
      "soupsieve                         2.4.1\n",
      "Sphinx                            2.2.0\n",
      "sphinx-bootstrap-theme            0.7.1\n",
      "sphinxcontrib-applehelp           1.0.4\n",
      "sphinxcontrib-devhelp             1.0.2\n",
      "sphinxcontrib-htmlhelp            2.0.1\n",
      "sphinxcontrib-jsmath              1.0.1\n",
      "sphinxcontrib-qthelp              1.0.3\n",
      "sphinxcontrib-serializinghtml     1.1.5\n",
      "ssh-import-id                     5.10\n",
      "stack-data                        0.6.2\n",
      "statsmodels                       0.14.0\n",
      "supervisor                        4.1.0\n",
      "systemd-python                    234\n",
      "tblib                             1.7.0\n",
      "tenacity                          8.2.2\n",
      "tensorboard                       2.13.0\n",
      "tensorboard-data-server           0.7.1\n",
      "tensorflow                        2.7.0\n",
      "tensorflow-estimator              2.7.0\n",
      "tensorflow-io-gcs-filesystem      0.32.0\n",
      "tensorflow-probability            0.20.1\n",
      "termcolor                         2.3.0\n",
      "terminado                         0.17.1\n",
      "testresources                     2.0.1\n",
      "threadpoolctl                     3.1.0\n",
      "tifffile                          2023.4.12\n",
      "tinycss2                          1.2.1\n",
      "toml                              0.10.2\n",
      "tomli                             2.0.1\n",
      "tomlkit                           0.11.8\n",
      "toolz                             0.12.0\n",
      "tornado                           6.3.2\n",
      "tqdm                              4.65.0\n",
      "traitlets                         5.9.0\n",
      "traittypes                        0.2.1\n",
      "TuiView                           1.0.4\n",
      "typing_extensions                 4.6.3\n",
      "tzdata                            2023.3\n",
      "unattended-upgrades               0.1\n",
      "Unidecode                         1.3.6\n",
      "uri-template                      1.2.0\n",
      "uritemplate                       3.0.1\n",
      "urllib3                           1.25.8\n",
      "virtualenv                        20.23.0\n",
      "voila                             0.4.0\n",
      "wadllib                           1.3.3\n",
      "Wand                              0.6.11\n",
      "wcwidth                           0.2.6\n",
      "webcolors                         1.13\n",
      "webencodings                      0.5.1\n",
      "websocket-client                  1.5.3\n",
      "websockets                        11.0.3\n",
      "Werkzeug                          2.3.6\n",
      "wget                              3.2\n",
      "wheel                             0.34.2\n",
      "whitebox                          2.3.1\n",
      "whiteboxgui                       2.3.0\n",
      "widgetsnbextension                3.6.4\n",
      "wrapt                             1.15.0\n",
      "xarray                            2023.1.0\n",
      "xarray_leaflet                    0.2.3\n",
      "xyzservices                       2023.5.0\n",
      "y-py                              0.5.9\n",
      "yarg                              0.1.9\n",
      "yarl                              1.9.2\n",
      "ypy-websocket                     0.8.2\n",
      "zict                              3.0.0\n",
      "zipp                              3.15.0\n",
      "\n",
      "\u001b[1m[\u001b[0m\u001b[34;49mnotice\u001b[0m\u001b[1;39;49m]\u001b[0m\u001b[39;49m A new release of pip is available: \u001b[0m\u001b[31;49m23.0\u001b[0m\u001b[39;49m -> \u001b[0m\u001b[32;49m23.1.2\u001b[0m\n",
      "\u001b[1m[\u001b[0m\u001b[34;49mnotice\u001b[0m\u001b[1;39;49m]\u001b[0m\u001b[39;49m To update, run: \u001b[0m\u001b[32;49mpython -m pip install --upgrade pip\u001b[0m\n"
     ]
    }
   ],
   "source": [
    "# Python Package Dependencies - Installed by the Virtual Environment\n",
    "!python -m pip list"
   ]
  },
  {
   "cell_type": "code",
   "execution_count": 25,
   "id": "fdc833b0-7b25-40a4-b6fe-ee1379785de5",
   "metadata": {
    "tags": []
   },
   "outputs": [],
   "source": [
    "# Path Handling in Python\n",
    "import os"
   ]
  },
  {
   "cell_type": "code",
   "execution_count": 26,
   "id": "25f651c9-9b23-4efc-89a9-feaf5ad3efac",
   "metadata": {
    "tags": []
   },
   "outputs": [
    {
     "data": {
      "text/plain": [
       "'/home/sepal-user/20230626_pyeo_installation/pyeo'"
      ]
     },
     "execution_count": 26,
     "metadata": {},
     "output_type": "execute_result"
    }
   ],
   "source": [
    "os.getcwd()"
   ]
  },
  {
   "cell_type": "code",
   "execution_count": 27,
   "id": "b96b09fa-f9aa-4eef-b5a8-2ad7c47ab775",
   "metadata": {
    "tags": []
   },
   "outputs": [
    {
     "name": "stdout",
     "output_type": "stream",
     "text": [
      "C:/Users/sepal-home/202306023_pyeo_temp_folder\n"
     ]
    }
   ],
   "source": [
    "# Path Building\n",
    "my_temp_dir = os.path.join('C:', 'Users', 'sepal-home', '202306023_pyeo_temp_folder')\n",
    "print(my_temp_dir)"
   ]
  },
  {
   "cell_type": "code",
   "execution_count": 28,
   "id": "a6286d70-6d2c-40db-9a90-a70fe428909e",
   "metadata": {
    "tags": []
   },
   "outputs": [
    {
     "name": "stdout",
     "output_type": "stream",
     "text": [
      "C:/Users/sepal-home/202306023_pyeo_temp_folder\n"
     ]
    }
   ],
   "source": [
    "print(my_temp_dir)\n",
    "# my_temp_dir"
   ]
  },
  {
   "cell_type": "code",
   "execution_count": 29,
   "id": "f1855134-299a-4d95-81f7-b7142d54c472",
   "metadata": {
    "tags": []
   },
   "outputs": [
    {
     "data": {
      "text/plain": [
       "'C:/Users/sepal-home/202306023_pyeo_temp_folder'"
      ]
     },
     "execution_count": 29,
     "metadata": {},
     "output_type": "execute_result"
    }
   ],
   "source": [
    "my_temp_dir"
   ]
  },
  {
   "cell_type": "code",
   "execution_count": 30,
   "id": "91080c03-6c94-4804-9cd7-2d73be2dd9e9",
   "metadata": {
    "tags": []
   },
   "outputs": [],
   "source": [
    "import pyeo"
   ]
  },
  {
   "cell_type": "code",
   "execution_count": 31,
   "id": "15202e93-31f0-429b-848b-7100f26ca5f4",
   "metadata": {
    "tags": []
   },
   "outputs": [
    {
     "name": "stdout",
     "output_type": "stream",
     "text": [
      "/home/sepal-user/20230626_pyeo_installation/pyeo/pyeo/__init__.py\n"
     ]
    }
   ],
   "source": [
    "print(pyeo.__file__)"
   ]
  },
  {
   "cell_type": "code",
   "execution_count": 32,
   "id": "4205cabc-143c-4282-ae9f-54718bf8c245",
   "metadata": {
    "tags": []
   },
   "outputs": [
    {
     "data": {
      "text/plain": [
       "['__builtins__',\n",
       " '__cached__',\n",
       " '__doc__',\n",
       " '__file__',\n",
       " '__loader__',\n",
       " '__name__',\n",
       " '__package__',\n",
       " '__path__',\n",
       " '__spec__']"
      ]
     },
     "execution_count": 32,
     "metadata": {},
     "output_type": "execute_result"
    }
   ],
   "source": [
    "dir(pyeo)"
   ]
  },
  {
   "cell_type": "code",
   "execution_count": 33,
   "id": "253ba422-f904-4b28-b6f9-693d76272b11",
   "metadata": {
    "tags": []
   },
   "outputs": [],
   "source": [
    "import pyeo.classification"
   ]
  },
  {
   "cell_type": "code",
   "execution_count": 34,
   "id": "677e50be-d69f-4750-adbb-c4d7025b5e70",
   "metadata": {
    "tags": []
   },
   "outputs": [
    {
     "name": "stdout",
     "output_type": "stream",
     "text": [
      "/home/sepal-user/20230626_pyeo_installation/pyeo/pyeo/classification.py\n"
     ]
    }
   ],
   "source": [
    "print(pyeo.classification.__file__)"
   ]
  },
  {
   "cell_type": "code",
   "execution_count": 35,
   "id": "0c98b058-6ed4-4ddb-ae2c-e8486bcb6ccb",
   "metadata": {},
   "source": [
    "# You are now ready to work with PyEO"
   ]
  }
 ],
 "metadata": {
  "kernelspec": {
   "display_name": " (venv) Python for Earth Observation (PyEO)",
   "language": "python",
   "name": "venv-pyeo"
  },
  "language_info": {
   "codemirror_mode": {
    "name": "ipython",
    "version": 3
   },
   "file_extension": ".py",
   "mimetype": "text/x-python",
   "name": "python",
   "nbconvert_exporter": "python",
   "pygments_lexer": "ipython3",
   "version": "3.8.10"
  }
 },
 "nbformat": 4,
 "nbformat_minor": 5
}
