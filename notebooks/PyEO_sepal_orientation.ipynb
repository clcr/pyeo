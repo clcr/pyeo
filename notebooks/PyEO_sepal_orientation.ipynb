{
 "cells": [
  {
   "cell_type": "markdown",
   "id": "15f6e23c-bad5-4ba2-a0c0-ccb414f6c8cf",
   "metadata": {},
   "source": [
    "# PyEO Orientation: How to get started with PyEO on SEPAL"
   ]
  },
  {
   "cell_type": "markdown",
   "id": "dceb065c-ccf1-441d-9bc1-7f870c747ad2",
   "metadata": {},
   "source": [
    "# SEPAL \n",
    "https://docs.sepal.io/en/latest/setup/presentation.html\n",
    "- Take a few minutes to become familiar with the SEPAL UI then continue through this notebook\n"
   ]
  },
  {
   "cell_type": "markdown",
   "id": "5a564427",
   "metadata": {},
   "source": [
    "# Download the First Tutorial Notebook, as follows:\n",
    "- First, click on the Terminal Icon in SEPAL, `>_` \n",
    "- Start a `t1` instance by typing: `t1` and pressing return\n",
    "- Now, type this command into the Terminal:\n",
    "    - `wget https://github.com/clcr/pyeo/raw/main/notebooks/pyeo_sepal_orientation.ipynb`\n"
   ]
  },
  {
   "cell_type": "markdown",
   "id": "6bc04f64-e8d0-489e-ac7d-682e725185cb",
   "metadata": {},
   "source": [
    "# JupyterLab/Notebook Setup"
   ]
  },
  {
   "cell_type": "markdown",
   "id": "e0beffb3-ba4d-4bdc-b75e-624350e4b5a5",
   "metadata": {},
   "source": [
    "- Please click on the Spanner Icon, and select `JupyterLab` from the top of the list of available applications.\n",
    "    - This may take a few minutes to start up the computing instance.\n",
    "- Select the PyEO Kernel - from the dropdown list at the top right of the Jupyter window\n",
    "    - ```(venv) Python for Earth Observation (PyEO)```"
   ]
  },
  {
   "cell_type": "markdown",
   "id": "aafa5c4c-3503-449d-be38-c9717d219dac",
   "metadata": {
    "tags": []
   },
   "source": [
    "- Jupyter operates as a series of cells such as this one\n",
    "- A cell can be either Markdown text or Python code (Selection between the options is via a dropdown at the top of this tab)\n",
    "- A Markdown cell is rendered as text by pressing Shift+Return (double click to edit it again)\n",
    "- A Python cell is executed by pressing Shift+Return"
   ]
  },
  {
   "cell_type": "markdown",
   "id": "360a21d3-3328-432c-a45d-970923d39f32",
   "metadata": {},
   "source": [
    "# Linux FileSystem Setup"
   ]
  },
  {
   "cell_type": "code",
   "execution_count": 1,
   "id": "e56b66ba-8e0c-45ec-ba7e-ff5955b25c68",
   "metadata": {
    "tags": []
   },
   "outputs": [
    {
     "name": "stdout",
     "output_type": "stream",
     "text": [
      "/home/sepal-user/.local/bin:\"/usr/local/sbin:/usr/local/bin:/usr/sbin:/usr/bin:/sbin:/bin:/usr/games:/usr/local/games:/snap/bin\"\n"
     ]
    }
   ],
   "source": [
    "!echo $PATH"
   ]
  },
  {
   "cell_type": "code",
   "execution_count": 2,
   "id": "13f0fa7d-e7f3-4c72-a7fb-6aae16c2f8b9",
   "metadata": {
    "collapsed": true,
    "jupyter": {
     "outputs_hidden": true
    },
    "tags": []
   },
   "outputs": [
    {
     "name": "stdout",
     "output_type": "stream",
     "text": [
      "SHELL=/usr/bin/bash\n",
      "SUDO_GID=0\n",
      "HOSTNAME=8f0562d90ff4\n",
      "SUDO_COMMAND=/usr/bin/bash -c python3 /usr/local/bin/jupyter-notebook --no-browser --allow-root --ip=0.0.0.0 --port=8888 --NotebookApp.token= --NotebookApp.base_url=/api/sandbox/jupyter/ --NotebookApp.notebook_dir=/home/sepal-user --FileContentsManager.delete_to_trash=False --VoilaConfiguration.enable_nbextensions=True --VoilaConfiguration.show_tracebacks=True --ContentsManager.allow_hidden=True\n",
      "SUDO_USER=root\n",
      "PWD=/home/sepal-user/20230626_pyeo_installation/pyeo/notebooks\n",
      "LOGNAME=sepal-user\n",
      "R_LIBS_SITE=/usr/local/lib/R/site-library:/usr/lib/R/site-library:/usr/lib/R/library:/shiny/library\n",
      "_=/usr/bin/printenv\n",
      "HOME=/home/sepal-user\n",
      "LANG=en_US.UTF-8\n",
      "FORCE_COLOR=1\n",
      "PYDEVD_USE_FRAME_EVAL=NO\n",
      "CLICOLOR=1\n",
      "CLICOLOR_FORCE=1\n",
      "R_LIBS_USER=/home/sepal-user/.R/library\n",
      "JPY_PARENT_PID=206\n",
      "TERM=xterm-color\n",
      "USER=sepal-user\n",
      "GIT_PAGER=cat\n",
      "SHLVL=0\n",
      "PAGER=cat\n",
      "PROJ_LIB=/usr/share/proj\n",
      "MPLBACKEND=module://matplotlib_inline.backend_inline\n",
      "LC_CTYPE=C.UTF-8\n",
      "NODE_PATH=:/usr/lib/node_modules:/node_modules\n",
      "LC_ALL=en_US.UTF-8\n",
      "PATH=/home/sepal-user/.local/bin:\"/usr/local/sbin:/usr/local/bin:/usr/sbin:/usr/bin:/sbin:/bin:/usr/games:/usr/local/games:/snap/bin\"\n",
      "SUDO_UID=0\n",
      "MAIL=/var/mail/sepal-user\n"
     ]
    }
   ],
   "source": [
    "!printenv"
   ]
  },
  {
   "cell_type": "code",
   "execution_count": 3,
   "id": "7168854b-0a90-4119-ba0a-3c8467f2bf03",
   "metadata": {
    "tags": []
   },
   "outputs": [
    {
     "name": "stdout",
     "output_type": "stream",
     "text": [
      "/home/sepal-user\n"
     ]
    }
   ],
   "source": [
    "cd ~"
   ]
  },
  {
   "cell_type": "code",
   "execution_count": 4,
   "id": "8bd20e34-6b15-4762-8624-a56d02413266",
   "metadata": {
    "tags": []
   },
   "outputs": [
    {
     "data": {
      "text/plain": [
       "'/home/sepal-user'"
      ]
     },
     "execution_count": 4,
     "metadata": {},
     "output_type": "execute_result"
    }
   ],
   "source": [
    "pwd"
   ]
  },
  {
   "cell_type": "code",
   "execution_count": 5,
   "id": "c5fc5880-12dd-4a5e-84e7-10741e235035",
   "metadata": {
    "tags": []
   },
   "outputs": [
    {
     "name": "stdout",
     "output_type": "stream",
     "text": [
      "total 1553629\n",
      "drwxrws--- 16 sepal-user sepal-user       6144 Jun 27 12:30 \u001b[0m\u001b[01;34m.\u001b[0m/\n",
      "drwxr-xr-x  1 root       root               24 Jun 28 11:33 \u001b[01;34m..\u001b[0m/\n",
      "drwxrwsr-x  4 sepal-user sepal-user       6144 Jun 25 12:26 \u001b[01;34m20230626_pyeo_installation\u001b[0m/\n",
      "-rw-------  1 sepal-user sepal-user       1840 Jun 25 17:31 .bash_history\n",
      "-rw-rw-r--  1 root       sepal-user        220 Feb 13 20:06 .bash_logout\n",
      "-rw-rw-r--  1 root       sepal-user       3771 Feb 13 20:06 .bashrc\n",
      "drwxrwsr-x  5 sepal-user sepal-user       6144 Feb  3 15:13 \u001b[01;34m.cache\u001b[0m/\n",
      "-rw-rw-r--  1 sepal-user sepal-user       1974 Mar  1 13:58 change_detection_config.toml\n",
      "drwxrwsr-x  4 sepal-user sepal-user       6144 Feb 21 16:46 \u001b[01;34m.config\u001b[0m/\n",
      "-rw-rw-r--  1 sepal-user sepal-user         44 Jun 27 12:30 .gitconfig\n",
      "-rw-rw-r--  1 sepal-user sepal-user       5938 Feb 17 17:14 heiko_library_install.ipynb\n",
      "drwxrwsr-x  2 sepal-user sepal-user       6144 Jun 25 08:14 \u001b[01;34m.ipynb_checkpoints\u001b[0m/\n",
      "drwxrwsr-x  3 sepal-user sepal-user       6144 Feb  3 15:09 \u001b[01;34m.ipython\u001b[0m/\n",
      "drwxrwsr-x  4 sepal-user sepal-user       6144 Jun 25 08:07 \u001b[01;34m.jupyter\u001b[0m/\n",
      "drwxrwsr-x  5 sepal-user sepal-user       6144 Feb  3 16:15 \u001b[01;34m.local\u001b[0m/\n",
      "drwxr-sr-x  3 sepal-user sepal-user       6144 Feb  3 13:52 \u001b[01;34m.log\u001b[0m/\n",
      "-rw-rw-r--  1 sepal-user sepal-user 1590738816 Feb 13 20:31 mato_rf_toby_1_ir_pkl_converted.pkl\n",
      "-rw-rw-r--  1 root       sepal-user        807 Feb 13 20:06 .profile\n",
      "-rw-rw-r--  1 sepal-user sepal-user      47643 Jun 25 08:35 pyeo_sepal_orientation.ipynb\n",
      "drwxrwsr-x  5       9999 sepal-user      33280 Jun  7 09:19 \u001b[01;34mshared\u001b[0m/\n",
      "drwxr-sr-x  2 sepal-user sepal-user       6144 Feb  3 13:52 \u001b[01;34m.shiny\u001b[0m/\n",
      "drwxr-sr-x  2 root       sepal-user       6144 Feb  3 13:52 \u001b[01;34m.ssh\u001b[0m/\n",
      "drwxrwsrwt  2 root       sepal-user       6144 Jun 28 11:41 \u001b[30;42mtmp\u001b[0m/\n",
      "drwx--S---  2 sepal-user sepal-user       6144 Jun 27 08:54 \u001b[01;34mtmpfpeown2v\u001b[0m/\n",
      "drwx--S---  2 sepal-user sepal-user       6144 Jun 27 07:19 \u001b[01;34mtmppaq1d2cq\u001b[0m/\n",
      "-rw-rw-r--  1 sepal-user sepal-user        215 Jun 25 08:53 .wget-hsts\n"
     ]
    }
   ],
   "source": [
    "ls -al"
   ]
  },
  {
   "cell_type": "markdown",
   "id": "4b013f4a-121c-4dfc-b78b-35bf812794f7",
   "metadata": {
    "tags": []
   },
   "source": [
    "- Create an installation directory to hold PyEO\n",
    "- We can use a relative path as we know our starting point in the filing system"
   ]
  },
  {
   "cell_type": "code",
   "execution_count": 6,
   "id": "c91c9288-aa96-4993-a453-9dab07c2b482",
   "metadata": {
    "tags": []
   },
   "outputs": [
    {
     "name": "stdout",
     "output_type": "stream",
     "text": [
      "mkdir: cannot create directory ‘./20230626_pyeo_installation’: File exists\n"
     ]
    }
   ],
   "source": [
    "mkdir ./20230626_pyeo_installation"
   ]
  },
  {
   "cell_type": "code",
   "execution_count": 7,
   "id": "cb6de4b3-5a74-4975-8743-6e9ed54fbc26",
   "metadata": {
    "tags": []
   },
   "outputs": [
    {
     "name": "stdout",
     "output_type": "stream",
     "text": [
      "total 1553565\n",
      "drwxrwsr-x 4 sepal-user sepal-user       6144 Jun 25 12:26 \u001b[0m\u001b[01;34m20230626_pyeo_installation\u001b[0m/\n",
      "-rw-rw-r-- 1 sepal-user sepal-user       1974 Mar  1 13:58 change_detection_config.toml\n",
      "-rw-rw-r-- 1 sepal-user sepal-user       5938 Feb 17 17:14 heiko_library_install.ipynb\n",
      "-rw-rw-r-- 1 sepal-user sepal-user 1590738816 Feb 13 20:31 mato_rf_toby_1_ir_pkl_converted.pkl\n",
      "-rw-rw-r-- 1 sepal-user sepal-user      47643 Jun 25 08:35 pyeo_sepal_orientation.ipynb\n",
      "drwxrwsr-x 5       9999 sepal-user      33280 Jun  7 09:19 \u001b[01;34mshared\u001b[0m/\n",
      "drwxrwsrwt 2 root       sepal-user       6144 Jun 28 11:41 \u001b[30;42mtmp\u001b[0m/\n",
      "drwx--S--- 2 sepal-user sepal-user       6144 Jun 27 08:54 \u001b[01;34mtmpfpeown2v\u001b[0m/\n",
      "drwx--S--- 2 sepal-user sepal-user       6144 Jun 27 07:19 \u001b[01;34mtmppaq1d2cq\u001b[0m/\n"
     ]
    }
   ],
   "source": [
    "ls -l"
   ]
  },
  {
   "cell_type": "markdown",
   "id": "339eac71-ff90-4b27-8b43-0292cd5a86f9",
   "metadata": {},
   "source": [
    "- Move into the installation directory ready to install PyEO"
   ]
  },
  {
   "cell_type": "code",
   "execution_count": 8,
   "id": "1dd6156c-222b-48cb-9e59-912908549dc2",
   "metadata": {
    "tags": []
   },
   "outputs": [
    {
     "name": "stdout",
     "output_type": "stream",
     "text": [
      "/home/sepal-user/20230626_pyeo_installation\n"
     ]
    }
   ],
   "source": [
    "cd /home/sepal-user/20230626_pyeo_installation"
   ]
  },
  {
   "cell_type": "code",
   "execution_count": 9,
   "id": "c49c69f8-9c70-45af-8f5e-545c79d73f25",
   "metadata": {
    "tags": []
   },
   "outputs": [
    {
     "data": {
      "text/plain": [
       "'/home/sepal-user/20230626_pyeo_installation'"
      ]
     },
     "execution_count": 9,
     "metadata": {},
     "output_type": "execute_result"
    }
   ],
   "source": [
    "pwd"
   ]
  },
  {
   "cell_type": "code",
   "execution_count": 10,
   "id": "27c1ac68-d77a-45f3-814a-61099b0027d3",
   "metadata": {},
   "outputs": [],
   "source": [
    "# Installation directory exists but is empty for now.."
   ]
  },
  {
   "cell_type": "code",
   "execution_count": 11,
   "id": "d7d44c2b-8b1d-4002-8033-6c72ec458086",
   "metadata": {
    "tags": []
   },
   "outputs": [
    {
     "name": "stdout",
     "output_type": "stream",
     "text": [
      "total 16\n",
      "drwxrwsr-x  4 sepal-user sepal-user 6144 Jun 25 12:26 \u001b[0m\u001b[01;34m.\u001b[0m/\n",
      "drwxrws--- 16 sepal-user sepal-user 6144 Jun 27 12:30 \u001b[01;34m..\u001b[0m/\n",
      "drwxrwsr-x  6 sepal-user sepal-user 6144 Jun 25 12:26 \u001b[01;34m36NXG\u001b[0m/\n",
      "drwxrwsr-x 16 sepal-user sepal-user 6144 Jun 28 11:46 \u001b[01;34mpyeo\u001b[0m/\n"
     ]
    }
   ],
   "source": [
    "ls -al"
   ]
  },
  {
   "cell_type": "markdown",
   "id": "c729f056-a2f7-4b27-8520-b01357099629",
   "metadata": {},
   "source": [
    "# PyEO Code-Base Setup using GIT and GitHub"
   ]
  },
  {
   "cell_type": "code",
   "execution_count": 12,
   "id": "e864c4eb-b221-4fc6-95f4-4554e7c69a99",
   "metadata": {
    "tags": []
   },
   "outputs": [
    {
     "name": "stdout",
     "output_type": "stream",
     "text": [
      "git version 2.25.1\n"
     ]
    }
   ],
   "source": [
    "!git --version"
   ]
  },
  {
   "cell_type": "code",
   "execution_count": 13,
   "id": "80e14c0a-73e6-4ebd-be59-63103ac90d32",
   "metadata": {
    "tags": []
   },
   "outputs": [
    {
     "data": {
      "text/plain": [
       "'/home/sepal-user/20230626_pyeo_installation'"
      ]
     },
     "execution_count": 13,
     "metadata": {},
     "output_type": "execute_result"
    }
   ],
   "source": [
    "pwd"
   ]
  },
  {
   "cell_type": "code",
   "execution_count": 14,
   "id": "0fd90e68-5891-4eee-8484-468a8ae72af4",
   "metadata": {
    "tags": []
   },
   "outputs": [
    {
     "name": "stdout",
     "output_type": "stream",
     "text": [
      "fatal: destination path 'pyeo' already exists and is not an empty directory.\n"
     ]
    }
   ],
   "source": [
    "!git clone https://github.com/clcr/pyeo.git"
   ]
  },
  {
   "cell_type": "code",
   "execution_count": 15,
   "id": "165ea144-21aa-4e31-8074-ce7a0d874190",
   "metadata": {
    "tags": []
   },
   "outputs": [
    {
     "name": "stdout",
     "output_type": "stream",
     "text": [
      "/home/sepal-user/20230626_pyeo_installation/pyeo\n"
     ]
    }
   ],
   "source": [
    "cd ./pyeo"
   ]
  },
  {
   "cell_type": "code",
   "execution_count": 16,
   "id": "467bf268-4edc-4f57-a09e-208402cc3b5e",
   "metadata": {
    "tags": []
   },
   "outputs": [
    {
     "data": {
      "text/plain": [
       "'/home/sepal-user/20230626_pyeo_installation/pyeo'"
      ]
     },
     "execution_count": 16,
     "metadata": {},
     "output_type": "execute_result"
    }
   ],
   "source": [
    "pwd"
   ]
  },
  {
   "cell_type": "code",
   "execution_count": 17,
   "id": "42b13718-0410-4b95-84aa-88335229a75f",
   "metadata": {
    "tags": []
   },
   "outputs": [
    {
     "name": "stdout",
     "output_type": "stream",
     "text": [
      "total 196\n",
      "drwxrwsr-x 16 sepal-user sepal-user  6144 Jun 28 11:46 \u001b[0m\u001b[01;34m.\u001b[0m/\n",
      "drwxrwsr-x  4 sepal-user sepal-user  6144 Jun 25 12:26 \u001b[01;34m..\u001b[0m/\n",
      "drwxrwsr-x  2 sepal-user sepal-user  6144 Jun 25 08:19 \u001b[01;34mbin\u001b[0m/\n",
      "drwxrwsr-x  3 sepal-user sepal-user  6144 Jun 25 12:44 \u001b[01;34mcredentials\u001b[0m/\n",
      "drwxrwsr-x  2 sepal-user sepal-user  6144 Jun 25 08:19 \u001b[01;34mdata\u001b[0m/\n",
      "drwxrwsr-x  4 sepal-user sepal-user  6144 Jun 25 08:19 \u001b[01;34mdocs\u001b[0m/\n",
      "-rw-rw-r--  1 sepal-user sepal-user   342 Jun 25 08:19 environment_conda_343.yml\n",
      "-rw-rw-r--  1 sepal-user sepal-user  8413 Jun 25 08:19 environment_conda_linux.yml\n",
      "-rw-rw-r--  1 sepal-user sepal-user  7343 Jun 25 08:19 environment_conda_windows.yml\n",
      "drwxrwsr-x  2 sepal-user sepal-user  6144 Jun 25 08:19 \u001b[01;34mgeometry\u001b[0m/\n",
      "drwxrwsr-x  8 sepal-user sepal-user  6144 Jun 27 12:34 \u001b[01;34m.git\u001b[0m/\n",
      "-rw-rw-r--  1 sepal-user sepal-user    66 Jun 25 08:19 .gitattributes\n",
      "-rw-rw-r--  1 sepal-user sepal-user  3349 Jun 25 08:19 .gitignore\n",
      "drwxrwsr-x  2 sepal-user sepal-user  6144 Jun 25 12:14 \u001b[01;34m.ipynb_checkpoints\u001b[0m/\n",
      "-rw-rw-r--  1 sepal-user sepal-user 35129 Jun 25 08:19 LICENSE\n",
      "drwxrwsr-x  3 sepal-user sepal-user  6144 Jun 25 12:18 \u001b[01;34mlog\u001b[0m/\n",
      "drwxrwsr-x  4 sepal-user sepal-user  6144 Jun 25 08:19 \u001b[01;34mmodels\u001b[0m/\n",
      "drwxrwsr-x  3 sepal-user sepal-user  6144 Jun 27 12:27 \u001b[01;34mnotebooks\u001b[0m/\n",
      "drwxrwsr-x  6 sepal-user sepal-user  6144 Jun 25 08:22 \u001b[01;34mpyeo\u001b[0m/\n",
      "-rw-rw-r--  1 sepal-user sepal-user  5483 Jun 25 08:19 pyeo.ini\n",
      "-rw-rw-r--  1 sepal-user sepal-user  7527 Jun 25 08:19 pyeo_linux.ini\n",
      "-rw-rw-r--  1 sepal-user sepal-user  7477 Jun 28 11:46 pyeo_sepal.ini\n",
      "-rw-rw-r--  1 sepal-user sepal-user  8013 Jun 25 08:19 pyeo.svg\n",
      "-rw-rw-r--  1 sepal-user sepal-user  7609 Jun 25 08:19 pyeo_windows.ini\n",
      "-rw-rw-r--  1 sepal-user sepal-user   215 Jun 25 08:19 pytest.ini\n",
      "drwxrwsr-x  3 sepal-user sepal-user  6144 Jun 25 08:19 \u001b[01;34mqgis\u001b[0m/\n",
      "-rw-rw-r--  1 sepal-user sepal-user 10385 Jun 25 08:19 README.md\n",
      "-rw-rw-r--  1 sepal-user sepal-user  2546 Jun 25 08:20 requirements.txt\n",
      "drwxrwsr-x  3 sepal-user sepal-user  6144 Jun 25 12:25 \u001b[01;34mroi\u001b[0m/\n",
      "-rw-rw-r--  1 sepal-user sepal-user   727 Jun 25 08:20 setup.py\n",
      "drwx--S---  2 sepal-user sepal-user  6144 Jun 25 15:31 \u001b[01;34mtmp_0l71ftr\u001b[0m/\n"
     ]
    }
   ],
   "source": [
    "ls -al"
   ]
  },
  {
   "cell_type": "code",
   "execution_count": 18,
   "id": "3d49ee63-2978-4dd1-9ca9-58c1c1423df4",
   "metadata": {
    "tags": []
   },
   "outputs": [
    {
     "name": "stdout",
     "output_type": "stream",
     "text": [
      "total 632\n",
      "drwxrwsr-x  6 sepal-user sepal-user   6144 Jun 25 08:22 \u001b[0m\u001b[01;34m.\u001b[0m/\n",
      "drwxrwsr-x 16 sepal-user sepal-user   6144 Jun 28 11:46 \u001b[01;34m..\u001b[0m/\n",
      "-rw-rw-r--  1 sepal-user sepal-user  42741 Jun 25 08:19 acd_national.py\n",
      "drwxrwsr-x 12 sepal-user sepal-user   6144 Jun 25 12:11 \u001b[01;34mapps\u001b[0m/\n",
      "-rw-rw-r--  1 sepal-user sepal-user    372 Jun 25 08:19 array_utilities.py\n",
      "drwxrwsr-x  2 sepal-user sepal-user   6144 Jun 25 08:19 \u001b[01;34massets\u001b[0m/\n",
      "-rw-rw-r--  1 sepal-user sepal-user    928 Jun 25 08:19 cirrus_correction.py\n",
      "-rw-rw-r--  1 sepal-user sepal-user  75628 Jun 25 08:19 classification.py\n",
      "-rw-rw-r--  1 sepal-user sepal-user  19727 Jun 25 08:19 coordinate_manipulation.py\n",
      "-rw-rw-r--  1 sepal-user sepal-user    853 Jun 25 08:19 exceptions.py\n",
      "-rw-rw-r--  1 sepal-user sepal-user  44331 Jun 25 08:19 filesystem_utilities.py\n",
      "-rw-rw-r--  1 sepal-user sepal-user      0 Jun 25 08:19 __init__.py\n",
      "-rw-rw-r--  1 sepal-user sepal-user   5677 Jun 25 08:19 L2A_GIPP.xml\n",
      "-rw-rw-r--  1 sepal-user sepal-user    546 Jun 25 08:19 plotting.py\n",
      "drwxrwsr-x  2 sepal-user sepal-user   6144 Jun 25 12:11 \u001b[01;34m__pycache__\u001b[0m/\n",
      "-rw-rw-r--  1 sepal-user sepal-user  91219 Jun 25 08:19 queries_and_downloads.py\n",
      "-rw-rw-r--  1 sepal-user sepal-user 240287 Jun 25 08:19 raster_manipulation.py\n",
      "-rw-rw-r--  1 sepal-user sepal-user    386 Jun 25 08:19 run_acd_national.py\n",
      "-rw-rw-r--  1 sepal-user sepal-user  13122 Jun 25 08:19 terrain_correction.py\n",
      "drwxrwsr-x  4 sepal-user sepal-user   6144 Jun 25 08:19 \u001b[01;34mtests\u001b[0m/\n",
      "-rw-rw-r--  1 sepal-user sepal-user  17677 Jun 25 08:19 validation.py\n",
      "-rw-rw-r--  1 sepal-user sepal-user  22364 Jun 25 08:19 vectorisation.py\n",
      "-rw-rw-r--  1 sepal-user sepal-user   3044 Jun 25 08:19 windows_compatability.py\n"
     ]
    }
   ],
   "source": [
    "ls -al ./pyeo"
   ]
  },
  {
   "cell_type": "markdown",
   "id": "24d5ac02-7004-49fc-9618-8767601aaf70",
   "metadata": {},
   "source": [
    "# Python Basics and Import of PyEO"
   ]
  },
  {
   "cell_type": "code",
   "execution_count": 21,
   "id": "89d7834f-3f4b-4a7b-962c-9e7f4b4c0f96",
   "metadata": {
    "tags": []
   },
   "outputs": [
    {
     "data": {
      "text/plain": [
       "7"
      ]
     },
     "execution_count": 21,
     "metadata": {},
     "output_type": "execute_result"
    }
   ],
   "source": [
    "# Computation\n",
    "3+4"
   ]
  },
  {
   "cell_type": "code",
   "execution_count": 22,
   "id": "0acf67bd-1327-4369-b812-814146d9ec72",
   "metadata": {
    "tags": []
   },
   "outputs": [],
   "source": [
    "# Library Importing\n",
    "import sys"
   ]
  },
  {
   "cell_type": "code",
   "execution_count": 23,
   "id": "21845dac-879e-408c-8728-a6960cc3f9bb",
   "metadata": {
    "tags": []
   },
   "outputs": [
    {
     "data": {
      "text/plain": [
       "'3.8.10 (default, May 26 2023, 14:05:08) \\n[GCC 9.4.0]'"
      ]
     },
     "execution_count": 23,
     "metadata": {},
     "output_type": "execute_result"
    }
   ],
   "source": [
    "# Check Python Version\n",
    "sys.version"
   ]
  },
  {
   "cell_type": "code",
   "execution_count": null,
   "id": "903775df-b633-437b-af9f-057738fdfd00",
   "metadata": {
    "collapsed": true,
    "jupyter": {
     "outputs_hidden": true
    },
    "tags": []
   },
   "outputs": [],
   "source": [
    "# Python Package Dependencies - Installed by the Virtual Environment\n",
    "!python -m pip list"
   ]
  },
  {
   "cell_type": "code",
   "execution_count": 25,
   "id": "fdc833b0-7b25-40a4-b6fe-ee1379785de5",
   "metadata": {
    "tags": []
   },
   "outputs": [],
   "source": [
    "# Path Handling in Python\n",
    "import os"
   ]
  },
  {
   "cell_type": "code",
   "execution_count": 26,
   "id": "25f651c9-9b23-4efc-89a9-feaf5ad3efac",
   "metadata": {
    "tags": []
   },
   "outputs": [
    {
     "data": {
      "text/plain": [
       "'/home/sepal-user/20230626_pyeo_installation/pyeo'"
      ]
     },
     "execution_count": 26,
     "metadata": {},
     "output_type": "execute_result"
    }
   ],
   "source": [
    "os.getcwd()"
   ]
  },
  {
   "cell_type": "code",
   "execution_count": 27,
   "id": "b96b09fa-f9aa-4eef-b5a8-2ad7c47ab775",
   "metadata": {
    "tags": []
   },
   "outputs": [
    {
     "name": "stdout",
     "output_type": "stream",
     "text": [
      "C:/Users/sepal-home/202306023_pyeo_temp_folder\n"
     ]
    }
   ],
   "source": [
    "# Path Building\n",
    "my_temp_dir = os.path.join('C:', 'Users', 'sepal-home', '202306023_pyeo_temp_folder')\n",
    "print(my_temp_dir)"
   ]
  },
  {
   "cell_type": "code",
   "execution_count": 28,
   "id": "a6286d70-6d2c-40db-9a90-a70fe428909e",
   "metadata": {
    "tags": []
   },
   "outputs": [
    {
     "name": "stdout",
     "output_type": "stream",
     "text": [
      "C:/Users/sepal-home/202306023_pyeo_temp_folder\n"
     ]
    }
   ],
   "source": [
    "print(my_temp_dir)\n",
    "# my_temp_dir"
   ]
  },
  {
   "cell_type": "code",
   "execution_count": 29,
   "id": "f1855134-299a-4d95-81f7-b7142d54c472",
   "metadata": {
    "tags": []
   },
   "outputs": [
    {
     "data": {
      "text/plain": [
       "'C:/Users/sepal-home/202306023_pyeo_temp_folder'"
      ]
     },
     "execution_count": 29,
     "metadata": {},
     "output_type": "execute_result"
    }
   ],
   "source": [
    "my_temp_dir"
   ]
  },
  {
   "cell_type": "code",
   "execution_count": 30,
   "id": "91080c03-6c94-4804-9cd7-2d73be2dd9e9",
   "metadata": {
    "tags": []
   },
   "outputs": [],
   "source": [
    "import pyeo"
   ]
  },
  {
   "cell_type": "code",
   "execution_count": 31,
   "id": "15202e93-31f0-429b-848b-7100f26ca5f4",
   "metadata": {
    "tags": []
   },
   "outputs": [
    {
     "name": "stdout",
     "output_type": "stream",
     "text": [
      "/home/sepal-user/20230626_pyeo_installation/pyeo/pyeo/__init__.py\n"
     ]
    }
   ],
   "source": [
    "print(pyeo.__file__)"
   ]
  },
  {
   "cell_type": "code",
   "execution_count": 32,
   "id": "4205cabc-143c-4282-ae9f-54718bf8c245",
   "metadata": {
    "tags": []
   },
   "outputs": [
    {
     "data": {
      "text/plain": [
       "['__builtins__',\n",
       " '__cached__',\n",
       " '__doc__',\n",
       " '__file__',\n",
       " '__loader__',\n",
       " '__name__',\n",
       " '__package__',\n",
       " '__path__',\n",
       " '__spec__']"
      ]
     },
     "execution_count": 32,
     "metadata": {},
     "output_type": "execute_result"
    }
   ],
   "source": [
    "dir(pyeo)"
   ]
  },
  {
   "cell_type": "code",
   "execution_count": 33,
   "id": "253ba422-f904-4b28-b6f9-693d76272b11",
   "metadata": {
    "tags": []
   },
   "outputs": [],
   "source": [
    "import pyeo.classification"
   ]
  },
  {
   "cell_type": "code",
   "execution_count": 34,
   "id": "677e50be-d69f-4750-adbb-c4d7025b5e70",
   "metadata": {
    "tags": []
   },
   "outputs": [
    {
     "name": "stdout",
     "output_type": "stream",
     "text": [
      "/home/sepal-user/20230626_pyeo_installation/pyeo/pyeo/classification.py\n"
     ]
    }
   ],
   "source": [
    "print(pyeo.classification.__file__)"
   ]
  },
  {
   "cell_type": "code",
   "execution_count": 35,
   "id": "0c98b058-6ed4-4ddb-ae2c-e8486bcb6ccb",
   "metadata": {},
   "outputs": [],
   "source": [
    "# You are now ready to work with PyEO"
   ]
  }
 ],
 "metadata": {
  "kernelspec": {
   "display_name": " (venv) Python for Earth Observation (PyEO)",
   "language": "python",
   "name": "venv-pyeo"
  },
  "language_info": {
   "codemirror_mode": {
    "name": "ipython",
    "version": 3
   },
   "file_extension": ".py",
   "mimetype": "text/x-python",
   "name": "python",
   "nbconvert_exporter": "python",
   "pygments_lexer": "ipython3",
   "version": "3.8.10"
  }
 },
 "nbformat": 4,
 "nbformat_minor": 5
}
