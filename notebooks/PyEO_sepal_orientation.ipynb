{
 "cells": [
  {
   "cell_type": "markdown",
   "id": "15f6e23c-bad5-4ba2-a0c0-ccb414f6c8cf",
   "metadata": {},
   "source": [
    "# PyEO Orientation: How to get started with PyEO on SEPAL"
   ]
  },
  {
   "cell_type": "markdown",
   "id": "dceb065c-ccf1-441d-9bc1-7f870c747ad2",
   "metadata": {},
   "source": [
    "# SEPAL \n",
    "https://docs.sepal.io/en/latest/setup/presentation.html\n",
    "- Take a few minutes to become familiar with the SEPAL UI then continue through this notebook\n"
   ]
  },
  {
   "cell_type": "markdown",
   "id": "5a564427",
   "metadata": {},
   "source": [
    "# Download the First Tutorial Notebook, as follows:\n",
    "- First, click on the Terminal Icon in SEPAL, `>_` \n",
    "- Start a `t1` instance by typing: `t1` and pressing return\n",
    "- Now, type this command into the Terminal:\n",
    "    - `wget https://github.com/clcr/pyeo/raw/main/notebooks/pyeo_sepal_orientation.ipynb`\n"
   ]
  },
  {
   "cell_type": "markdown",
   "id": "6bc04f64-e8d0-489e-ac7d-682e725185cb",
   "metadata": {},
   "source": [
    "# JupyterLab/Notebook Setup"
   ]
  },
  {
   "cell_type": "markdown",
   "id": "e0beffb3-ba4d-4bdc-b75e-624350e4b5a5",
   "metadata": {},
   "source": [
    "- Please click on the Spanner Icon, and select `JupyterLab` from the top of the list of available applications.\n",
    "    - This may take a few minutes to start up the computing instance.\n",
    "- Select the PyEO Kernel - from the dropdown list at the top right of the Jupyter window\n",
    "    - ```(venv) Python for Earth Observation (PyEO)```"
   ]
  },
  {
   "cell_type": "markdown",
   "id": "aafa5c4c-3503-449d-be38-c9717d219dac",
   "metadata": {
    "tags": []
   },
   "source": [
    "- Jupyter operates as a series of cells such as this one\n",
    "- A cell can be either Markdown text or Python code (Selection between the options is via a dropdown at the top of this tab)\n",
    "- A Markdown cell is rendered as text by pressing Shift+Return (double click to edit it again)\n",
    "- A Python cell is executed by pressing Shift+Return"
   ]
  },
  {
   "cell_type": "markdown",
   "id": "360a21d3-3328-432c-a45d-970923d39f32",
   "metadata": {},
   "source": [
    "# Linux FileSystem Setup"
   ]
  },
  {
   "cell_type": "code",
   "execution_count": null,
   "id": "e56b66ba-8e0c-45ec-ba7e-ff5955b25c68",
   "metadata": {
    "tags": []
   },
   "outputs": [],
   "source": [
    "!echo $PATH"
   ]
  },
  {
   "cell_type": "code",
   "execution_count": null,
   "id": "13f0fa7d-e7f3-4c72-a7fb-6aae16c2f8b9",
   "metadata": {
    "collapsed": true,
    "jupyter": {
     "outputs_hidden": true
    },
    "tags": []
   },
   "outputs": [],
   "source": [
    "!printenv"
   ]
  },
  {
   "cell_type": "code",
   "execution_count": null,
   "id": "7168854b-0a90-4119-ba0a-3c8467f2bf03",
   "metadata": {
    "tags": []
   },
   "outputs": [],
   "source": [
    "cd ~"
   ]
  },
  {
   "cell_type": "code",
   "execution_count": null,
   "id": "8bd20e34-6b15-4762-8624-a56d02413266",
   "metadata": {
    "tags": []
   },
   "outputs": [],
   "source": [
    "pwd"
   ]
  },
  {
   "cell_type": "code",
   "execution_count": null,
   "id": "c5fc5880-12dd-4a5e-84e7-10741e235035",
   "metadata": {
    "tags": []
   },
   "outputs": [],
   "source": [
    "ls -al"
   ]
  },
  {
   "cell_type": "markdown",
   "id": "4b013f4a-121c-4dfc-b78b-35bf812794f7",
   "metadata": {
    "tags": []
   },
   "source": [
    "- Create an installation directory to hold PyEO\n",
    "- We can use a relative path as we know our starting point in the filing system"
   ]
  },
  {
   "cell_type": "code",
   "execution_count": null,
   "id": "c91c9288-aa96-4993-a453-9dab07c2b482",
   "metadata": {
    "tags": []
   },
   "outputs": [],
   "source": [
    "mkdir ./20230626_pyeo_installation"
   ]
  },
  {
   "cell_type": "code",
   "execution_count": null,
   "id": "cb6de4b3-5a74-4975-8743-6e9ed54fbc26",
   "metadata": {
    "tags": []
   },
   "outputs": [],
   "source": [
    "ls -l"
   ]
  },
  {
   "cell_type": "markdown",
   "id": "339eac71-ff90-4b27-8b43-0292cd5a86f9",
   "metadata": {},
   "source": [
    "- Move into the installation directory ready to install PyEO"
   ]
  },
  {
   "cell_type": "code",
   "execution_count": null,
   "id": "1dd6156c-222b-48cb-9e59-912908549dc2",
   "metadata": {
    "tags": []
   },
   "outputs": [],
   "source": [
    "cd /home/sepal-user/20230626_pyeo_installation"
   ]
  },
  {
   "cell_type": "code",
   "execution_count": null,
   "id": "c49c69f8-9c70-45af-8f5e-545c79d73f25",
   "metadata": {
    "tags": []
   },
   "outputs": [],
   "source": [
    "pwd"
   ]
  },
  {
   "cell_type": "code",
   "execution_count": null,
   "id": "27c1ac68-d77a-45f3-814a-61099b0027d3",
   "metadata": {},
   "outputs": [],
   "source": [
    "# Installation directory exists but is empty for now.."
   ]
  },
  {
   "cell_type": "code",
   "execution_count": null,
   "id": "d7d44c2b-8b1d-4002-8033-6c72ec458086",
   "metadata": {
    "tags": []
   },
   "outputs": [],
   "source": [
    "ls -al"
   ]
  },
  {
   "cell_type": "markdown",
   "id": "c729f056-a2f7-4b27-8520-b01357099629",
   "metadata": {},
   "source": [
    "# PyEO Code-Base Setup using GIT and GitHub"
   ]
  },
  {
   "cell_type": "code",
   "execution_count": null,
   "id": "e864c4eb-b221-4fc6-95f4-4554e7c69a99",
   "metadata": {
    "tags": []
   },
   "outputs": [],
   "source": [
    "!git --version"
   ]
  },
  {
   "cell_type": "code",
   "execution_count": null,
   "id": "80e14c0a-73e6-4ebd-be59-63103ac90d32",
   "metadata": {
    "tags": []
   },
   "outputs": [],
   "source": [
    "pwd"
   ]
  },
  {
   "cell_type": "code",
   "execution_count": null,
   "id": "0fd90e68-5891-4eee-8484-468a8ae72af4",
   "metadata": {
    "tags": []
   },
   "outputs": [],
   "source": [
    "!git clone https://github.com/clcr/pyeo.git"
   ]
  },
  {
   "cell_type": "code",
   "execution_count": null,
   "id": "165ea144-21aa-4e31-8074-ce7a0d874190",
   "metadata": {
    "tags": []
   },
   "outputs": [],
   "source": [
    "cd ./pyeo"
   ]
  },
  {
   "cell_type": "code",
   "execution_count": null,
   "id": "467bf268-4edc-4f57-a09e-208402cc3b5e",
   "metadata": {
    "tags": []
   },
   "outputs": [],
   "source": [
    "pwd"
   ]
  },
  {
   "cell_type": "code",
   "execution_count": null,
   "id": "42b13718-0410-4b95-84aa-88335229a75f",
   "metadata": {
    "tags": []
   },
   "outputs": [],
   "source": [
    "ls -al"
   ]
  },
  {
   "cell_type": "code",
   "execution_count": null,
   "id": "3d49ee63-2978-4dd1-9ca9-58c1c1423df4",
   "metadata": {
    "tags": []
   },
   "outputs": [],
   "source": [
    "ls -al ./pyeo"
   ]
  },
  {
   "cell_type": "markdown",
   "id": "24d5ac02-7004-49fc-9618-8767601aaf70",
   "metadata": {},
   "source": [
    "# Python Basics and Import of PyEO"
   ]
  },
  {
   "cell_type": "code",
   "execution_count": null,
   "id": "89d7834f-3f4b-4a7b-962c-9e7f4b4c0f96",
   "metadata": {
    "tags": []
   },
   "outputs": [],
   "source": [
    "# Computation\n",
    "3+4"
   ]
  },
  {
   "cell_type": "code",
   "execution_count": null,
   "id": "0acf67bd-1327-4369-b812-814146d9ec72",
   "metadata": {
    "tags": []
   },
   "outputs": [],
   "source": [
    "# Library Importing\n",
    "import sys"
   ]
  },
  {
   "cell_type": "code",
   "execution_count": null,
   "id": "21845dac-879e-408c-8728-a6960cc3f9bb",
   "metadata": {
    "tags": []
   },
   "outputs": [],
   "source": [
    "# Check Python Version\n",
    "sys.version"
   ]
  },
  {
   "cell_type": "code",
   "execution_count": null,
   "id": "903775df-b633-437b-af9f-057738fdfd00",
   "metadata": {
    "collapsed": true,
    "jupyter": {
     "outputs_hidden": true
    },
    "tags": []
   },
   "outputs": [],
   "source": [
    "# Python Package Dependencies - Installed by the Virtual Environment\n",
    "!python -m pip list"
   ]
  },
  {
   "cell_type": "code",
   "execution_count": null,
   "id": "fdc833b0-7b25-40a4-b6fe-ee1379785de5",
   "metadata": {
    "tags": []
   },
   "outputs": [],
   "source": [
    "# Path Handling in Python\n",
    "import os"
   ]
  },
  {
   "cell_type": "code",
   "execution_count": null,
   "id": "25f651c9-9b23-4efc-89a9-feaf5ad3efac",
   "metadata": {
    "tags": []
   },
   "outputs": [],
   "source": [
    "os.getcwd()"
   ]
  },
  {
   "cell_type": "code",
   "execution_count": null,
   "id": "b96b09fa-f9aa-4eef-b5a8-2ad7c47ab775",
   "metadata": {
    "tags": []
   },
   "outputs": [],
   "source": [
    "# Path Building\n",
    "my_temp_dir = os.path.join('C:', 'Users', 'sepal-home', '202306023_pyeo_temp_folder')\n",
    "print(my_temp_dir)"
   ]
  },
  {
   "cell_type": "code",
   "execution_count": null,
   "id": "a6286d70-6d2c-40db-9a90-a70fe428909e",
   "metadata": {
    "tags": []
   },
   "outputs": [],
   "source": [
    "print(my_temp_dir)\n",
    "# my_temp_dir"
   ]
  },
  {
   "cell_type": "code",
   "execution_count": null,
   "id": "f1855134-299a-4d95-81f7-b7142d54c472",
   "metadata": {
    "tags": []
   },
   "outputs": [],
   "source": [
    "my_temp_dir"
   ]
  },
  {
   "cell_type": "code",
   "execution_count": null,
   "id": "91080c03-6c94-4804-9cd7-2d73be2dd9e9",
   "metadata": {
    "tags": []
   },
   "outputs": [],
   "source": [
    "import pyeo"
   ]
  },
  {
   "cell_type": "code",
   "execution_count": null,
   "id": "15202e93-31f0-429b-848b-7100f26ca5f4",
   "metadata": {
    "tags": []
   },
   "outputs": [],
   "source": [
    "print(pyeo.__file__)"
   ]
  },
  {
   "cell_type": "code",
   "execution_count": null,
   "id": "4205cabc-143c-4282-ae9f-54718bf8c245",
   "metadata": {
    "tags": []
   },
   "outputs": [],
   "source": [
    "dir(pyeo)"
   ]
  },
  {
   "cell_type": "code",
   "execution_count": null,
   "id": "253ba422-f904-4b28-b6f9-693d76272b11",
   "metadata": {
    "tags": []
   },
   "outputs": [],
   "source": [
    "import pyeo.classification"
   ]
  },
  {
   "cell_type": "code",
   "execution_count": null,
   "id": "677e50be-d69f-4750-adbb-c4d7025b5e70",
   "metadata": {
    "tags": []
   },
   "outputs": [],
   "source": [
    "print(pyeo.classification.__file__)"
   ]
  },
  {
   "cell_type": "code",
   "execution_count": null,
   "id": "0c98b058-6ed4-4ddb-ae2c-e8486bcb6ccb",
   "metadata": {},
   "outputs": [],
   "source": [
    "# You are now ready to work with PyEO"
   ]
  }
 ],
 "metadata": {
  "kernelspec": {
   "display_name": " (venv) Python for Earth Observation (PyEO)",
   "language": "python",
   "name": "venv-pyeo"
  },
  "language_info": {
   "codemirror_mode": {
    "name": "ipython",
    "version": 3
   },
   "file_extension": ".py",
   "mimetype": "text/x-python",
   "name": "python",
   "nbconvert_exporter": "python",
   "pygments_lexer": "ipython3",
   "version": "3.8.10"
  }
 },
 "nbformat": 4,
 "nbformat_minor": 5
}
