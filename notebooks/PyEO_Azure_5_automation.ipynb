{
 "cells": [
  {
   "cell_type": "markdown",
   "id": "9573cade-431a-4762-a3c3-615e9ca0fdce",
   "metadata": {},
   "source": [
    "# Automating a processing chain using Python apps (scripts)\n",
    "So far, we have run Jupyter Notebooks to go through the steps involved in the creation of a baseline image composite, the downloading and processing of change detection images, the classification into land cover maps, the change detection and verification, and the aggregation of many change maps into one report image file. We have then vectorised the report image to reduce its file size and emailed the reports to registered users as an email attachment.\n",
    "This notebook shows how we can build an efficient and more automated forest alerts processing chain. We will do this by basically turning the four previous notebooks into Python scripts (also sometimes called Apps). A Python script ends with .py and is executable from within Python."
   ]
  },
  {
   "cell_type": "markdown",
   "id": "890e7233-72eb-4276-b926-d4a817c173e7",
   "metadata": {},
   "source": [
    "# Setup: Requirements to use this Notebook"
   ]
  },
  {
   "cell_type": "code",
   "execution_count": 1,
   "id": "84f674d1-3dd8-4e08-a3ee-6297e6947624",
   "metadata": {},
   "outputs": [
    {
     "data": {
      "text/plain": [
       "'Z:\\\\gy7709\\\\pyeo\\\\notebooks'"
      ]
     },
     "execution_count": 1,
     "metadata": {},
     "output_type": "execute_result"
    }
   ],
   "source": [
    "pwd"
   ]
  },
  {
   "cell_type": "code",
   "execution_count": 2,
   "id": "58a7e410-fbe2-482f-b40f-a42a012e240d",
   "metadata": {},
   "outputs": [
    {
     "name": "stdout",
     "output_type": "stream",
     "text": [
      "Z:\\gy7709\\pyeo\n"
     ]
    }
   ],
   "source": [
    "cd Z:\\gy7709\\pyeo"
   ]
  },
  {
   "cell_type": "markdown",
   "id": "5425eed8-1653-4b3f-8132-78a4af51a9eb",
   "metadata": {},
   "source": [
    "We did this in the previous notebook step-by-step. Here, we initialie the notebook in one code cell to speed up the process."
   ]
  },
  {
   "cell_type": "code",
   "execution_count": 3,
   "id": "a45a442a-c1a8-474f-badf-c26ceda437ff",
   "metadata": {
    "tags": []
   },
   "outputs": [
    {
     "name": "stderr",
     "output_type": "stream",
     "text": [
      "Windows or iOS detected; Patching GetVirtualMemArray. Some functions may not respond as expected.\n"
     ]
    },
    {
     "name": "stdout",
     "output_type": "stream",
     "text": [
      "Libraries successfully imported\n"
     ]
    },
    {
     "name": "stderr",
     "output_type": "stream",
     "text": [
      "C:\\Users\\hb91\\.conda\\envs\\pyeo_env_w1\\lib\\abc.py:106: SHDeprecationWarning: AWS functionality will remain in the codebase for now, but won't be actively maintained.\n",
      "  cls = super().__new__(mcls, name, bases, namespace, **kwargs)\n"
     ]
    }
   ],
   "source": [
    "import argparse\n",
    "import configparser\n",
    "import cProfile\n",
    "import datetime\n",
    "from datetime import datetime\n",
    "from email.message import EmailMessage\n",
    "import geopandas as gpd\n",
    "import glob\n",
    "import json\n",
    "import os\n",
    "from osgeo import gdal\n",
    "import pandas as pd\n",
    "import numpy as np\n",
    "import shutil\n",
    "import smtplib\n",
    "import sys\n",
    "import warnings\n",
    "import zipfile\n",
    "\n",
    "from pyeo import (\n",
    "    classification, \n",
    "    filesystem_utilities,\n",
    "    queries_and_downloads, \n",
    "    raster_manipulation,\n",
    "    vectorisation\n",
    ")\n",
    "from pyeo.filesystem_utilities import config_to_log\n",
    "from pyeo.acd_national import (\n",
    "    acd_initialisation,\n",
    "    acd_config_to_log,\n",
    "    acd_roi_tile_intersection\n",
    ")\n",
    "\n",
    "gdal.UseExceptions()\n",
    "warnings.simplefilter(\"ignore\", category=UserWarning)\n",
    "\n",
    "print(\"Libraries successfully imported\")"
   ]
  },
  {
   "cell_type": "code",
   "execution_count": 4,
   "id": "d179b693-7f27-483c-8f0a-9885c7508bcd",
   "metadata": {},
   "outputs": [],
   "source": [
    "config_path = \"Z:\\gy7709\\pyeo\\pyeo_windows_gy7709.ini\""
   ]
  },
  {
   "cell_type": "markdown",
   "id": "f2ebe606-7b9c-48b8-9b29-fb7008aa9b3f",
   "metadata": {},
   "source": [
    "# make_composite.py\n",
    "\n",
    "This App downloads and preprocesses Sentinel 2 images into a median image composite.\n",
    "\n",
    "Usage from a terminal command line (we add the % to call it from a Jupyter Notebook):\n",
    "\n",
    "%run pyeo\\apps\\change_detection\\make_composite.py Z:\\gy7709\\pyeo\\pyeo_windows_gy7709.ini\n",
    "\n",
    "In this configuration, all processing parameters will be taken from the .ini file.\n",
    "\n",
    "%run pyeo\\apps\\change_detection\\make_composite.py Z:\\gy7709\\pyeo\\pyeo_windows_gy7709.ini --tile 36NXG\n",
    "\n",
    "If the --tile flag is specified, the App will override the selection of tiles from the geojson location file with the specified Sentinel-2 tile ID."
   ]
  },
  {
   "cell_type": "code",
   "execution_count": null,
   "id": "3ac6bc8a-150c-483b-a351-046a7e11b7d5",
   "metadata": {},
   "outputs": [],
   "source": [
    "%run pyeo\\apps\\change_detection\\make_composite.py Z:\\gy7709\\pyeo\\pyeo_windows_gy7709.ini"
   ]
  },
  {
   "cell_type": "markdown",
   "id": "b6a949a8-9c10-4477-becb-6923df0e71bb",
   "metadata": {},
   "source": [
    "# detect_change.py\n",
    "This App downloads and preprocesses Sentinel 2 images for change detection and classifies them using a machine learning model. It performs change detection against a baseline median image composite. Generates a report image file and optionally vectorises it if selected in the ini file.\n",
    "\n",
    "Usage from a terminal command line (we add the % to call it from a Jupyter Notebook):\n",
    "\n",
    "%run pyeo\\apps\\change_detection\\detect_change.py Z:\\gy7709\\pyeo\\pyeo_windows_gy7709.ini\n",
    "\n",
    "In this configuration, all processing parameters will be taken from the .ini file.\n",
    "\n",
    "%run pyeo\\apps\\change_detection\\detect_change.py Z:\\gy7709\\pyeo\\pyeo_windows_gy7709.ini --tile 36NXG\n",
    "\n",
    "If the --tile flag is specified, the App will override the selection of tiles from the geojson location file with the specified Sentinel-2 tile ID."
   ]
  },
  {
   "cell_type": "code",
   "execution_count": null,
   "id": "f8f4477b-1292-411d-9dd0-ef5735aa7c5b",
   "metadata": {},
   "outputs": [],
   "source": [
    "%run pyeo\\apps\\change_detection\\detect_change.py Z:\\gy7709\\pyeo\\pyeo_windows_gy7709.ini"
   ]
  },
  {
   "cell_type": "markdown",
   "id": "9b2ab90e-e01b-4bbe-a324-796e9ad1ae4e",
   "metadata": {},
   "source": [
    "# send_report.py\n",
    "This App sends out any new vectorised report files (.shp format) to a list of recipients specified in an email list file. Currently only email is implemented. WhatsApp will be added in the future. Options are set in the .ini file and login details in the credentials file. Any newly created shapefiles found will be zipped and emailed out as an attachment. The zipping process ensures that they are not sent out twice.\n",
    "\n",
    "Usage from a terminal command line (we add the % to call it from a Jupyter Notebook):\n",
    "\n",
    ">%run pyeo\\apps\\change_detection\\send_report.py Z:\\gy7709\\pyeo\\pyeo_windows_gy7709.ini\n",
    "\n",
    "In this configuration, all processing parameters will be taken from the .ini file.\n",
    "\n",
    ">%run pyeo\\apps\\change_detection\\send_report.py Z:\\gy7709\\pyeo\\pyeo_windows_gy7709.ini --tile 36NXG\n",
    "\n",
    "If the --tile flag is specified, the App will override the selection of tiles from the geojson location file with the specified Sentinel-2 tile ID."
   ]
  },
  {
   "cell_type": "code",
   "execution_count": 15,
   "id": "3dac0134-12e5-4165-999f-534c7cc71679",
   "metadata": {},
   "outputs": [
    {
     "data": {
      "text/plain": [
       "'Z:\\\\gy7709\\\\36NXG'"
      ]
     },
     "execution_count": 15,
     "metadata": {},
     "output_type": "execute_result"
    }
   ],
   "source": [
    "pwd"
   ]
  },
  {
   "cell_type": "code",
   "execution_count": 16,
   "id": "d6d8181e-c2b1-4ca9-a967-85dd2bb2cac3",
   "metadata": {},
   "outputs": [
    {
     "name": "stdout",
     "output_type": "stream",
     "text": [
      "Z:\\gy7709\\pyeo\n"
     ]
    }
   ],
   "source": [
    "cd Z:\\gy7709\\pyeo"
   ]
  },
  {
   "cell_type": "code",
   "execution_count": 17,
   "id": "466b14c7-cb2b-4e2f-bef3-ba054eec1300",
   "metadata": {},
   "outputs": [
    {
     "name": "stderr",
     "output_type": "stream",
     "text": [
      "2024-08-15 21:19:07,783: INFO: ---------------------------------------------------------------\n",
      "2024-08-15 21:19:07,783: INFO: ---                 PROCESSING START                        ---\n",
      "2024-08-15 21:19:07,783: INFO: ---------------------------------------------------------------\n",
      "2024-08-15 21:19:07,795: INFO: conda environment path found: C:\\Users\\hb91\\.conda\\envs\\pyeo_env\n",
      "2024-08-15 21:19:07,808: INFO: Config file that controls the processing run: Z:\\gy7709\\pyeo\\pyeo_windows_gy7709.ini\n",
      "2024-08-15 21:19:07,814: INFO: ---------------------------------------------------------------\n",
      "2024-08-15 21:19:07,819: INFO: ----------------------------\n",
      "2024-08-15 21:19:07,823: INFO: Contents of the config file:\n",
      "2024-08-15 21:19:07,828: INFO: ----------------------------\n",
      "2024-08-15 21:19:07,833: INFO:   run_mode :  watch_period_seconds\n",
      "2024-08-15 21:19:07,839: INFO:   forest_sentinel :  model\n",
      "2024-08-15 21:19:07,843: INFO:   environment :  sen2cor_path\n",
      "2024-08-15 21:19:07,848: INFO:   raster_processing_parameters :  change_to_classes\n",
      "2024-08-15 21:19:07,852: INFO:   vector_processing_parameters :  minimum_area_to_report_m2\n",
      "2024-08-15 21:19:07,857: INFO:   alerts_sending_options :  whatsapp_list_file\n",
      "2024-08-15 21:19:07,862: INFO:   qsub_processor_options :  'nodes=1:ppn=16,vmem=64Gb'\n",
      "2024-08-15 21:19:07,866: WARNING:    --do_parallel is depracated\n",
      "2024-08-15 21:19:07,870: INFO:   wall_time_hours :  3\n",
      "2024-08-15 21:19:07,875: INFO:   watch_time_hours :  3\n",
      "2024-08-15 21:19:07,880: INFO:   watch_period_seconds :  60\n",
      "2024-08-15 21:19:07,884: INFO:   --do_tile_intersection selected. It enables Sentinel-2 tile intersection with region of interest (ROI) vector file.\n",
      "2024-08-15 21:19:07,887: WARNING:    --do_raster is depracated\n",
      "2024-08-15 21:19:07,893: WARNING:    --do_dev is depracated\n",
      "2024-08-15 21:19:07,897: INFO:   do_all :  False\n",
      "2024-08-15 21:19:07,901: INFO:   --do_classify selected. It applies the random forest model and creates classification layers\n",
      "2024-08-15 21:19:07,906: INFO:   --do_change selected. It produces change detection layers and report images\n",
      "2024-08-15 21:19:07,911: INFO:     --download_source = dataspace\n",
      "2024-08-15 21:19:07,915: INFO:       change start date : 20230101\n",
      "2024-08-15 21:19:07,919: INFO:       change end date   : 20230131\n",
      "2024-08-15 21:19:07,926: INFO:   --do_download is selected. Download of change detection images enabled\n",
      "2024-08-15 21:19:07,930: WARNING:    --do_update is depracated\n",
      "2024-08-15 21:19:07,935: INFO:   --do_quicklooks selected. It saves image quicklooks for visual quality checking\n",
      "2024-08-15 21:19:07,938: INFO:   do_delete :  False\n",
      "2024-08-15 21:19:07,943: INFO:   do_zip :  False\n",
      "2024-08-15 21:19:07,948: INFO:   --build_composite is selected. It makes a baseline image composite\n",
      "2024-08-15 21:19:07,952: INFO:     --download_source = dataspace\n",
      "2024-08-15 21:19:07,956: INFO:       composite start date :  20220101\n",
      "2024-08-15 21:19:07,964: INFO:       composite end date   : 20221231\n",
      "2024-08-15 21:19:07,968: INFO:   build_prob_image :  False\n",
      "2024-08-15 21:19:07,973: INFO:   do_skip_existing :  True\n",
      "2024-08-15 21:19:07,978: INFO:   aoi_name :  Kenya\n",
      "2024-08-15 21:19:07,982: INFO:   start_date :  20230101\n",
      "2024-08-15 21:19:07,987: INFO:   end_date :  20230131\n",
      "2024-08-15 21:19:07,991: INFO:   composite_start :  20220101\n",
      "2024-08-15 21:19:07,996: INFO:   composite_end :  20221231\n",
      "2024-08-15 21:19:08,001: INFO:   EPSG code for output map projection: 21097\n",
      "2024-08-15 21:19:08,005: INFO:   cloud_cover :  25\n",
      "2024-08-15 21:19:08,009: INFO:   cloud_certainty_threshold :  0\n",
      "2024-08-15 21:19:08,014: INFO: Machine learning model used: models\\model_36MYE_Unoptimised_20230505_no_haze.pkl\n",
      "2024-08-15 21:19:08,021: INFO:   Model path exists.\n",
      "2024-08-15 21:19:08,025: INFO: dataspace selected as download source for the Copernicus Data Space Ecosystem.\n",
      "2024-08-15 21:19:08,029: INFO:     Faulty Granule Threshold: 200\n",
      "2024-08-15 21:19:08,034: INFO:   download_source :  dataspace\n",
      "2024-08-15 21:19:08,039: INFO:   List of image bands: ['B02', 'B03', 'B04', 'B08']\n",
      "2024-08-15 21:19:08,042: INFO:   resolution_string :  \"10m\"\n",
      "2024-08-15 21:19:08,047: INFO:   output_resolution :  10\n",
      "2024-08-15 21:19:08,052: INFO:   buffer_size_cloud_masking :  20\n",
      "2024-08-15 21:19:08,056: INFO:   buffer_size_cloud_masking_composite :  10\n",
      "2024-08-15 21:19:08,061: INFO:   download_limit :  15\n",
      "2024-08-15 21:19:08,066: INFO:   faulty_granule_threshold :  200\n",
      "2024-08-15 21:19:08,071: INFO:   sieve :  0\n",
      "2024-08-15 21:19:08,076: INFO:   chunks :  5\n",
      "2024-08-15 21:19:08,080: INFO:   List of class labels:\n",
      "2024-08-15 21:19:08,086: INFO:     1 : primary forest\n",
      "2024-08-15 21:19:08,090: INFO:     2 : plantation forest\n",
      "2024-08-15 21:19:08,094: INFO:     3 : bare soil\n",
      "2024-08-15 21:19:08,099: INFO:     4 : crops\n",
      "2024-08-15 21:19:08,105: INFO:     5 : grassland\n",
      "2024-08-15 21:19:08,109: INFO:     6 : open water\n",
      "2024-08-15 21:19:08,113: INFO:     7 : burn scar\n",
      "2024-08-15 21:19:08,117: INFO:     8 : cloud\n",
      "2024-08-15 21:19:08,122: INFO:     9 : cloud shadow\n",
      "2024-08-15 21:19:08,209: INFO:     10 : haze\n",
      "2024-08-15 21:19:08,231: INFO:     11 : sparse woodland\n",
      "2024-08-15 21:19:08,233: INFO:     12 : dense woodland\n",
      "2024-08-15 21:19:08,236: INFO:     13 : artificial\n",
      "2024-08-15 21:19:08,238: INFO: Detecting changes from any of the classes: [1, 2, 12]\n",
      "2024-08-15 21:19:08,240: INFO:                     to any of the classes: [3, 4, 5, 7, 11, 13]\n",
      "2024-08-15 21:19:08,243: INFO:   from_classes :  [1, 2, 12]\n",
      "2024-08-15 21:19:08,246: INFO:   to_classes :  [3, 4, 5, 7, 11, 13]\n",
      "2024-08-15 21:19:08,249: INFO:     Environment Manager to use is : conda\n",
      "2024-08-15 21:19:08,253: INFO: The Conda Environment specified in .ini file is :  pyeo_env\n",
      "2024-08-15 21:19:08,256: INFO:   conda_directory :  C:\\Users\\hb91\\.conda\n",
      "2024-08-15 21:19:08,258: INFO:   conda_env_name :  pyeo_env\n",
      "2024-08-15 21:19:08,261: INFO: Pyeo Working Directory is   : Z:\\gy7709\\pyeo\n",
      "2024-08-15 21:19:08,263: INFO:   Integrated Directory           : integrated\n",
      "2024-08-15 21:19:08,265: INFO:   ROI Directory for image search : roi\n",
      "2024-08-15 21:19:08,268: INFO:   Geometry Directory for admin shapefile : geometry\n",
      "2024-08-15 21:19:08,270: INFO:   Path to the Admin Boundaries for Vectorisation : geometry\\gadm41_KEN_1.json\n",
      "2024-08-15 21:19:08,273: INFO: Main Tile Directory for tile subdirs : Z:\\gy7709\n",
      "2024-08-15 21:19:08,276: INFO:   integrated_dir :  integrated\n",
      "2024-08-15 21:19:08,278: INFO:   roi_dir :  roi\n",
      "2024-08-15 21:19:08,281: INFO:   roi_filename :  kfs_roi_subset_c.shp\n",
      "2024-08-15 21:19:08,283: INFO:   geometry_dir :  geometry\n",
      "2024-08-15 21:19:08,285: INFO:   s2_tiles_filename :  kenya_s2_tiles.shp\n",
      "2024-08-15 21:19:08,287: INFO:   log_dir :  log\n",
      "2024-08-15 21:19:08,289: INFO:   log_filename :  pyeo_gy7709.log\n",
      "2024-08-15 21:19:08,291: INFO: Path to Sen2Cor is   : Z:\\gy7709\\bin\\L2A_Process\n",
      "2024-08-15 21:19:08,294: WARNING:   Sen2Cor path does not exist. Cannot convert L1C to L2A.\n",
      "2024-08-15 21:19:08,296: INFO:   level_1_filename :  gadm41_KEN_1.json\n",
      "2024-08-15 21:19:08,298: INFO:   level_2_filename :  gadm41_KEN_2.json\n",
      "2024-08-15 21:19:08,300: INFO:   level_3_filename :  gadm41_KEN_3.json\n",
      "2024-08-15 21:19:08,302: INFO:   level_1_boundaries_path :  geometry\\gadm41_KEN_1.json\n",
      "2024-08-15 21:19:08,304: INFO:   --do_delete_existing_vector selected. When vectorising the change report rasters,\n",
      "2024-08-15 21:19:08,307: INFO:     existing vectors files will be deleted and new vector files created.\n",
      "2024-08-15 21:19:08,309: INFO:   --do_vectorise selected. It produces vector files from raster report images\n",
      "2024-08-15 21:19:08,311: INFO:   do_integrate :  False\n",
      "2024-08-15 21:19:08,313: INFO:   do_filter :  False\n",
      "2024-08-15 21:19:08,315: INFO:   --admin_areas_of_interest\n",
      "2024-08-15 21:19:08,317: INFO:         Admin areas of interest to filter the national geodataframe:\n",
      "2024-08-15 21:19:08,320: INFO:         0  :  Kwale\n",
      "2024-08-15 21:19:08,322: INFO:   --minimum_area_to_report_m2\n",
      "2024-08-15 21:19:08,324: INFO:     Only Change Detections > 500 square metres will be reported\n",
      "2024-08-15 21:19:08,326: INFO:   minimum_area_to_report_m2 :  500\n",
      "2024-08-15 21:19:08,329: INFO:   do_distribution :  True\n",
      "2024-08-15 21:19:08,331: INFO:   email_alerts :  True\n",
      "2024-08-15 21:19:08,334: INFO:   email_list_file :  Z:\\gy7709\\pyeo\\subscribers.txt\n",
      "2024-08-15 21:19:08,337: INFO:   whatsapp_alerts :  False\n",
      "2024-08-15 21:19:08,340: INFO:   whatsapp_list_file :  \"\"\n",
      "2024-08-15 21:19:08,343: INFO:   credentials_path :  credentials\\credentials.ini\n",
      "2024-08-15 21:19:08,346: INFO: -----------------------------------------------------------\n",
      "2024-08-15 21:19:08,349: INFO: Successfully read the processing arguments\n",
      "2024-08-15 21:19:08,358: INFO: Reading your email credentials from credentials\\credentials.ini\n",
      "2024-08-15 21:19:08,498: INFO: The provided ROI intersects with 2 Sentinel-2 tiles:\n",
      "2024-08-15 21:19:08,498: INFO:   1 : 36NXG\n",
      "2024-08-15 21:19:08,516: INFO:   2 : 36NYG\n"
     ]
    },
    {
     "name": "stdout",
     "output_type": "stream",
     "text": [
      "Z:\\gy7709\\tilelist.csv already exists. Renaming the old file.\n",
      "New file name: Z:\\gy7709\\tilelist_12.csv\n"
     ]
    },
    {
     "name": "stderr",
     "output_type": "stream",
     "text": [
      "2024-08-15 21:19:09,935: INFO: Region of interest processing based on ROI file.\n",
      "2024-08-15 21:19:09,946: INFO: Saved Sentinel-2 tile ID list: Z:\\gy7709\\tilelist_12.csv\n",
      "2024-08-15 21:19:09,948: INFO: 2 Sentinel-2 tiles to process.\n",
      "2024-08-15 21:19:09,953: INFO: Sending out the latest reports for Sentinel-2 tile: 36NXG\n",
      "2024-08-15 21:19:09,959: INFO: Z:\\gy7709\\36NXG\n",
      "2024-08-15 21:19:11,990: INFO: Redirecting log output to tile log: Z:\\gy7709\\36NXG\\log\\36NXG.log\n",
      "2024-08-15 21:19:12,134: INFO: ---------------------------------------------------------------\n",
      "2024-08-15 21:19:12,146: INFO: ---                 PROCESSING START                        ---\n",
      "2024-08-15 21:19:12,147: INFO: ---------------------------------------------------------------\n",
      "2024-08-15 21:19:12,149: INFO: ---------------------------------------------------------------\n",
      "2024-08-15 21:19:12,154: INFO: ---  TILE PROCESSING START: 36NXG                          ---\n",
      "2024-08-15 21:19:12,157: INFO: ---------------------------------------------------------------\n",
      "2024-08-15 21:19:12,161: INFO: Sending vectorised reports if available.\n",
      "2024-08-15 21:19:12,164: INFO: Searching for vectorised change report shapefiles in Z:\\gy7709\\36NXG\\output\\reports\n",
      "2024-08-15 21:19:12,166: INFO:  containing: report_*36NXG*.shp.\n",
      "2024-08-15 21:19:12,170: INFO: Did not find any vectorised change report shapefiles there.\n",
      "2024-08-15 21:19:12,172: INFO: Now searching for vectorised change report shapefiles in Z:\\gy7709\\36NXG\\output\\probabilities\n",
      "2024-08-15 21:19:12,175: INFO:  containing: report_*36NXG*.shp.\n",
      "2024-08-15 21:19:12,184: INFO: Vectorised change report shapefiles:\n",
      "2024-08-15 21:19:12,188: INFO:   Z:\\gy7709\\36NXG\\output\\probabilities\\report_20221202T075301_36NXG_20230129T080059_band15.shp\n",
      "2024-08-15 21:19:12,192: INFO:   Z:\\gy7709\\36NXG\\output\\probabilities\\report_20221202T075301_36NXG_20230129T080059_band15_filtered.shp\n",
      "2024-08-15 21:19:12,196: INFO: file path starts with: Z:\\gy7709\\36NXG\\output\\probabilities\\report_20221202T075301_36NXG_20230129T080059_band15\n",
      "2024-08-15 21:19:12,200: INFO: Creating zip file: Z:\\gy7709\\36NXG\\output\\probabilities\\report_20221202T075301_36NXG_20230129T080059_band15.zip\n",
      "2024-08-15 21:19:12,210: INFO: 4 files to include in zip file:\n",
      "2024-08-15 21:19:12,216: INFO:   Z:\\gy7709\\36NXG\\output\\probabilities\\report_20221202T075301_36NXG_20230129T080059_band15.dbf\n",
      "2024-08-15 21:19:12,220: INFO:   Z:\\gy7709\\36NXG\\output\\probabilities\\report_20221202T075301_36NXG_20230129T080059_band15.prj\n",
      "2024-08-15 21:19:12,225: INFO:   Z:\\gy7709\\36NXG\\output\\probabilities\\report_20221202T075301_36NXG_20230129T080059_band15.shp\n",
      "2024-08-15 21:19:12,229: INFO:   Z:\\gy7709\\36NXG\\output\\probabilities\\report_20221202T075301_36NXG_20230129T080059_band15.shx\n",
      "2024-08-15 21:19:12,941: INFO: file path starts with: Z:\\gy7709\\36NXG\\output\\probabilities\\report_20221202T075301_36NXG_20230129T080059_band15_filtered\n",
      "2024-08-15 21:19:12,941: INFO: Creating zip file: Z:\\gy7709\\36NXG\\output\\probabilities\\report_20221202T075301_36NXG_20230129T080059_band15_filtered.zip\n",
      "2024-08-15 21:19:12,941: INFO: 5 files to include in zip file:\n",
      "2024-08-15 21:19:12,941: INFO:   Z:\\gy7709\\36NXG\\output\\probabilities\\report_20221202T075301_36NXG_20230129T080059_band15_filtered.cpg\n",
      "2024-08-15 21:19:12,959: INFO:   Z:\\gy7709\\36NXG\\output\\probabilities\\report_20221202T075301_36NXG_20230129T080059_band15_filtered.dbf\n",
      "2024-08-15 21:19:12,963: INFO:   Z:\\gy7709\\36NXG\\output\\probabilities\\report_20221202T075301_36NXG_20230129T080059_band15_filtered.prj\n",
      "2024-08-15 21:19:12,966: INFO:   Z:\\gy7709\\36NXG\\output\\probabilities\\report_20221202T075301_36NXG_20230129T080059_band15_filtered.shp\n",
      "2024-08-15 21:19:12,968: INFO:   Z:\\gy7709\\36NXG\\output\\probabilities\\report_20221202T075301_36NXG_20230129T080059_band15_filtered.shx\n",
      "2024-08-15 21:19:13,822: INFO: 2 report shapefiles found and zipped up.\n",
      "2024-08-15 21:19:13,846: INFO: Recipients of email alerts:\n",
      "2024-08-15 21:19:13,852: INFO: Heiko,  hb91@le.ac.uk\n",
      "2024-08-15 21:19:13,864: INFO: Sending email from pyeo.forest.alerts@outlook.com to Heiko at  hb91@le.ac.uk.\n",
      "2024-08-15 21:19:14,731: INFO:  \n",
      "2024-08-15 21:19:14,731: INFO: ---------------------------------------------------------------\n",
      "2024-08-15 21:19:14,731: INFO: ---             TILE PROCESSING END                           ---\n",
      "2024-08-15 21:19:14,731: INFO: ---------------------------------------------------------------\n",
      "2024-08-15 21:19:14,746: INFO: Sending out the latest reports for Sentinel-2 tile: 36NYG\n",
      "2024-08-15 21:19:14,750: INFO: Z:\\gy7709\\36NYG\n",
      "2024-08-15 21:19:16,859: INFO: Redirecting log output to tile log: Z:\\gy7709\\36NYG\\log\\36NYG.log\n",
      "2024-08-15 21:19:17,028: INFO: ---------------------------------------------------------------\n",
      "2024-08-15 21:19:17,036: INFO: ---                 PROCESSING START                        ---\n",
      "2024-08-15 21:19:17,043: INFO: ---------------------------------------------------------------\n",
      "2024-08-15 21:19:17,048: INFO: ---------------------------------------------------------------\n",
      "2024-08-15 21:19:17,053: INFO: ---  TILE PROCESSING START: 36NYG                          ---\n",
      "2024-08-15 21:19:17,057: INFO: ---------------------------------------------------------------\n",
      "2024-08-15 21:19:17,063: INFO: Sending vectorised reports if available.\n",
      "2024-08-15 21:19:17,067: INFO: Searching for vectorised change report shapefiles in Z:\\gy7709\\36NYG\\output\\reports\n",
      "2024-08-15 21:19:17,072: INFO:  containing: report_*36NYG*.shp.\n",
      "2024-08-15 21:19:17,078: INFO: Did not find any vectorised change report shapefiles there.\n",
      "2024-08-15 21:19:17,083: INFO: Now searching for vectorised change report shapefiles in Z:\\gy7709\\36NYG\\output\\probabilities\n",
      "2024-08-15 21:19:17,086: INFO:  containing: report_*36NYG*.shp.\n",
      "2024-08-15 21:19:17,093: ERROR: Did not find any vectorised change report shapefiles there either. Exiting.\n"
     ]
    },
    {
     "ename": "SystemExit",
     "evalue": "1",
     "output_type": "error",
     "traceback": [
      "An exception has occurred, use %tb to see the full traceback.\n",
      "\u001b[1;31mSystemExit\u001b[0m\u001b[1;31m:\u001b[0m 1\n"
     ]
    }
   ],
   "source": [
    "%run pyeo\\apps\\change_detection\\send_report.py Z:\\gy7709\\pyeo\\pyeo_windows_gy7709.ini"
   ]
  },
  {
   "cell_type": "code",
   "execution_count": null,
   "id": "3fb2f1e9-1d53-41b0-8996-7d90305c4c46",
   "metadata": {},
   "outputs": [],
   "source": [
    "# needs a different environment with snakeviz installed\n",
    "snakeviz Z:\\gy7709\\send_report.prof"
   ]
  },
  {
   "cell_type": "code",
   "execution_count": null,
   "id": "4eaa10fa-828e-4dd2-9013-5c8ca56cddf4",
   "metadata": {},
   "outputs": [],
   "source": []
  }
 ],
 "metadata": {
  "kernelspec": {
   "display_name": "Python 3 (ipykernel)",
   "language": "python",
   "name": "python3"
  },
  "language_info": {
   "codemirror_mode": {
    "name": "ipython",
    "version": 3
   },
   "file_extension": ".py",
   "mimetype": "text/x-python",
   "name": "python",
   "nbconvert_exporter": "python",
   "pygments_lexer": "ipython3",
   "version": "3.10.13"
  }
 },
 "nbformat": 4,
 "nbformat_minor": 5
}
