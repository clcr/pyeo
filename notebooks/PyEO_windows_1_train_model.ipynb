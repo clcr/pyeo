{
 "cells": [
  {
   "cell_type": "markdown",
   "id": "216ee4c6-369b-403e-8b96-347bb1bc57ed",
   "metadata": {
    "tags": []
   },
   "source": [
    "# PyEO Machine Learning: How to train your machine learning model."
   ]
  },
  {
   "cell_type": "markdown",
   "id": "ddc42378-f694-4d14-aeb8-42588c160b19",
   "metadata": {},
   "source": [
    "This notebook was developed for pyeo on a Windows computer.\n",
    "\n",
    "In this notebook, we will create a machine learning model to classify land cover from a satellite image. This is a step that is needed to proceed to a post-classification change detection between different image acquisiton dates.\n",
    "To train a model, we will need training data. For PyEO, we define training data as pixel-based land surface reflectance values at multiple wavelengths (image bands) and their corresponding 'true' land cover classes from our own visual image interpretation.\n",
    "The next section below details how to generate this training data by manually delineating polygons using the QGIS software."
   ]
  },
  {
   "cell_type": "markdown",
   "id": "5597774d",
   "metadata": {},
   "source": [
    "# Delineate Sample Areas using QGIS"
   ]
  },
  {
   "cell_type": "markdown",
   "id": "507d59a8-24bb-48c8-a5e5-7ddd246bb76d",
   "metadata": {},
   "source": [
    "## Live Demo: Training Sample Delineation"
   ]
  },
  {
   "cell_type": "markdown",
   "id": "f1b68b3b-9313-41fc-8e98-dab9472aa570",
   "metadata": {},
   "source": [
    "- Prof. Heiko Balzter will show a recorded demo of how to delineate training data in QGIS."
   ]
  },
  {
   "cell_type": "code",
   "execution_count": 1,
   "id": "1e57e012",
   "metadata": {
    "tags": []
   },
   "outputs": [],
   "source": [
    "from IPython.display import HTML\n",
    "#HTML('<iframe width=\"1080\" height=\"490\" src=\"https://leicester.cloud.panopto.eu/Panopto/Pages/Viewer.aspx?id=a4568baf-c85d-4fab-b6c4-ac9300ed6ab2\" frameborder=\"0\" allowfullscreen></iframe>')"
   ]
  },
  {
   "cell_type": "markdown",
   "id": "2c5c425d-c751-4612-8431-7f5f42133eac",
   "metadata": {},
   "source": [
    "## QGIS Training Data Specification Process Guide\n",
    "- In the left hand panel of JupyterLab, navigate to `pyeo/models` within your installation directory and right click to download the sample image to your laptop\n",
    "  - You need the file `composite_T36MYE_20230220T074941_clipped.tif`\n",
    "- Once downloaded, open the image in QGIS on your laptop\n",
    "- Add a shapefile layer\n",
    "- Toggle editing of the shapefile layer\n",
    "- Add a field which should be integer and named `class`\n",
    "- Delineate features using the **Add Polygon Feature** tool. It looks like this: ![image](./Create_polygon.PNG) \n",
    "- Add training polygons for classes of interest to your shape file. \n",
    "- So that we can compare results please train for the following land use classes, using the integer CODE assigned to each in the table below:\n",
    "  - `Primary Forest` 1; \n",
    "  - `Plantation Forest` 2;\n",
    "  - `Bare Soil` 3;\n",
    "  - `Crops` 4;\n",
    "  - `Grassland` 5;\n",
    "  - `Artificial` 13;\n",
    "- Save your shapefile to your laptop hard drive\n",
    "- Use the 'Upload' button to bring your saved shapefile to the folder 'model_dir' within your PyEO installation on SEPAL\n"
   ]
  },
  {
   "cell_type": "markdown",
   "id": "d9f9f32f",
   "metadata": {},
   "source": [
    "## QGIS Tips"
   ]
  },
  {
   "cell_type": "markdown",
   "id": "b0e9aeab",
   "metadata": {},
   "source": [
    "- Whilst in QGIS, make sure you have the **Digitizing** and **Advanced Digitizing** toolbars enabled. To do so, click:  \n",
    "    - View > Toolbars > Tick Digitizing and Advanced Digitizing\n",
    "- Avoid delineating near the edges of land cover, e.g. at the forest edge adjacent to a road. These edge pixels will capture the variation in land-cover at the sub-pixel level, confusing your classifier. \n",
    "- The **Reshape Features** tool, is extremely useful for extending already delineated polygons. Click inside the polygon you want to extend, then click any points outside of the polygon (covering your land cover class of interest), once ready - click inside the polygon to complete the loop, and right click to finish delineation. The tool icon looks like this: ![image](./Reshape_features.PNG)\n",
    "- Install Google Earth Pro on your PC, https://www.google.com/earth/about/versions/ , which offers very-high resolution satellite imagery, and Google StreetView, to help you understand the land covers you are delineating.\n",
    "- Install the QGIS plugin, **Send2GE**. This plugin sends your location directly to your installed Google Earth Pro. To do so, click on the Send2GE icon, ![image](./Send2GE.PNG), and then click on the location you want to view in Google Earth Pro.\n",
    "- When developing models in future you may wish to develop your own choice of Land Cover classes and tailor them to what you want your model to achieve. Listed below is the full list of classes that we have evaluated for our `PyEO` forest alert classifier, but alternative classes may be more appropriate for your needs.\n",
    "\n",
    "    1. Primary Forest\n",
    "    2. Plantation Forest\n",
    "    3. Bare Soil\n",
    "    4. Crops\n",
    "    5. Grassland\n",
    "    6. Open Water\n",
    "    7. Burn Scar\n",
    "    8. Cloud\n",
    "    9. Cloud Shadow\n",
    "    10. Haze\n",
    "    11. Sparse Woodland\n",
    "    12. Dense Woodland\n",
    "    13. Artificial\n",
    "    "
   ]
  },
  {
   "cell_type": "markdown",
   "id": "b70c526c",
   "metadata": {},
   "source": [
    "# Setup: Requirements to use this Notebook"
   ]
  },
  {
   "cell_type": "markdown",
   "id": "ad55421d-8756-4d52-8970-c43376989d27",
   "metadata": {},
   "source": [
    "## Check the working directory is set to `pyeo` within your PyEO installation"
   ]
  },
  {
   "cell_type": "code",
   "execution_count": 2,
   "id": "b1327872-0a99-465a-ac20-8cc72c8caa13",
   "metadata": {
    "tags": []
   },
   "outputs": [
    {
     "data": {
      "text/plain": [
       "'Z:\\\\gy7709\\\\pyeo\\\\notebooks'"
      ]
     },
     "execution_count": 2,
     "metadata": {},
     "output_type": "execute_result"
    }
   ],
   "source": [
    "pwd"
   ]
  },
  {
   "cell_type": "code",
   "execution_count": 3,
   "id": "5b3f4e43-3090-4bc6-adcc-b66b871ae217",
   "metadata": {
    "tags": []
   },
   "outputs": [
    {
     "name": "stdout",
     "output_type": "stream",
     "text": [
      "Z:\\gy7709\\pyeo\n"
     ]
    }
   ],
   "source": [
    "cd Z:\\gy7709\\pyeo"
   ]
  },
  {
   "cell_type": "code",
   "execution_count": 4,
   "id": "03b958bb-5431-41e1-bee6-8bd3399f5e9d",
   "metadata": {
    "tags": []
   },
   "outputs": [
    {
     "data": {
      "text/plain": [
       "'Z:\\\\gy7709\\\\pyeo'"
      ]
     },
     "execution_count": 4,
     "metadata": {},
     "output_type": "execute_result"
    }
   ],
   "source": [
    "pwd"
   ]
  },
  {
   "cell_type": "markdown",
   "id": "b4cef591",
   "metadata": {},
   "source": [
    "## Import the Required Libraries"
   ]
  },
  {
   "cell_type": "markdown",
   "id": "484e165f-1880-46eb-9506-2d63139c9f2c",
   "metadata": {},
   "source": [
    "Before proceeding, let's check that the import statements from pyeo execute correctly. You may get a Windows or IOS warning about patching of GetVirtualMemArray. Let's ignore that for now."
   ]
  },
  {
   "cell_type": "code",
   "execution_count": 24,
   "id": "bae9610c",
   "metadata": {
    "tags": []
   },
   "outputs": [
    {
     "name": "stdout",
     "output_type": "stream",
     "text": [
      "Library imports complete\n"
     ]
    }
   ],
   "source": [
    "import os\n",
    "from pathlib import Path\n",
    "from pyeo import classification as cls\n",
    "from pyeo import filesystem_utilities as file_utils\n",
    "import pandas as pd\n",
    "import platform\n",
    "\n",
    "from matplotlib.colors import LinearSegmentedColormap\n",
    "from osgeo import gdal\n",
    "import warnings\n",
    "import numpy as np\n",
    "import matplotlib.pyplot as plt\n",
    "import matplotlib.colors as mcolors\n",
    "\n",
    "from sklearn.model_selection import train_test_split\n",
    "from sklearn.metrics import classification_report\n",
    "from sklearn.metrics import confusion_matrix\n",
    "from sklearn import ensemble as ens\n",
    "import numpy as np\n",
    "import joblib\n",
    "\n",
    "print(\"Library imports complete\")"
   ]
  },
  {
   "cell_type": "markdown",
   "id": "c29d58bd",
   "metadata": {},
   "source": [
    "## Specify the Model Storage Directory"
   ]
  },
  {
   "cell_type": "code",
   "execution_count": 6,
   "id": "9b5cfce7-3f18-4051-9130-3f32eee6a991",
   "metadata": {
    "tags": []
   },
   "outputs": [],
   "source": [
    "pyeo_dir = \"Z:\\gy7709\\pyeo\""
   ]
  },
  {
   "cell_type": "code",
   "execution_count": 7,
   "id": "092654c4-8590-4e75-ab8f-705eefdd0efd",
   "metadata": {
    "tags": []
   },
   "outputs": [],
   "source": [
    "os.chdir(pyeo_dir)"
   ]
  },
  {
   "cell_type": "code",
   "execution_count": 8,
   "id": "af7229b0-32ea-4277-bc95-f39792cc46f3",
   "metadata": {
    "tags": []
   },
   "outputs": [
    {
     "data": {
      "text/plain": [
       "'Z:\\\\gy7709\\\\pyeo'"
      ]
     },
     "execution_count": 8,
     "metadata": {},
     "output_type": "execute_result"
    }
   ],
   "source": [
    "pwd"
   ]
  },
  {
   "cell_type": "code",
   "execution_count": 9,
   "id": "376a5bf0",
   "metadata": {
    "tags": []
   },
   "outputs": [],
   "source": [
    "model_dir = os.path.join(pyeo_dir, \"models\", \"my_model\")\n",
    "log_dir = os.path.join(pyeo_dir, \"log\")\n",
    "\n",
    "# Create the folder if it doesn't yet exist\n",
    "os.chdir(pyeo_dir)\n",
    "if not os.path.exists(model_dir): \n",
    "    os.mkdir(model_dir)\n",
    "if not os.path.exists(log_dir): \n",
    "    os.mkdir(log_dir)\n"
   ]
  },
  {
   "cell_type": "markdown",
   "id": "b7c7e3f5-712d-4ec8-8e8e-88a37b189656",
   "metadata": {},
   "source": [
    "- TIP: Use the File Browser to check your new folder now exists"
   ]
  },
  {
   "cell_type": "markdown",
   "id": "a54e8447",
   "metadata": {},
   "source": [
    "## Initialise Logging Output"
   ]
  },
  {
   "cell_type": "markdown",
   "id": "78e0bab2",
   "metadata": {},
   "source": [
    "- When running `PyEO`, we record our processing steps, chosen parameters and other information in a log file (with file ending `.log`).\n",
    "- If we are ever curious about what `PyEO` has done and when, we can look at the log file.\n",
    "- Below, we initialise our log file \n",
    "- **Note: the .log does not need to exist before running the function**"
   ]
  },
  {
   "cell_type": "code",
   "execution_count": 10,
   "id": "9f52bacb",
   "metadata": {
    "tags": []
   },
   "outputs": [
    {
     "name": "stderr",
     "output_type": "stream",
     "text": [
      "2024-08-16 10:08:52,614: INFO: ---------------------------------------------------------------\n",
      "2024-08-16 10:08:52,627: INFO: ---                 PROCESSING START                        ---\n",
      "2024-08-16 10:08:52,630: INFO: ---------------------------------------------------------------\n",
      "2024-08-16 10:08:52,630: INFO: pyeo_Model_Training Notebook Started:\n",
      "2024-08-16 10:08:52,632: INFO: - pyeo_dir set to: Z:\\gy7709\\pyeo\n",
      "2024-08-16 10:08:52,634: INFO: - model_dir set to: Z:\\gy7709\\pyeo\\models\\my_model\n",
      "2024-08-16 10:08:52,638: INFO: - log_dir set to: Z:\\gy7709\\pyeo\\log\n"
     ]
    }
   ],
   "source": [
    "log_filename = \"model_log.log\"\n",
    "log = file_utils.init_log(os.path.join(log_dir, log_filename))\n",
    "\n",
    "# fix any forward slashes in directory paths in the ini file if running on Windows\n",
    "#if platform.system() == \"Windows\":\n",
    "#    model_dir = model_dir.replace(\"/\",\"\\\\\")\n",
    "#    log_dir = log_dir.replace(\"/\",\"\\\\\")\n",
    "    \n",
    "# Let's add some information to the log\n",
    "log.info(f'pyeo_Model_Training Notebook Started:')\n",
    "log.info(f'- pyeo_dir set to: {pyeo_dir}')\n",
    "log.info(f'- model_dir set to: {model_dir}')\n",
    "log.info(f'- log_dir set to: {log_dir}')    "
   ]
  },
  {
   "cell_type": "markdown",
   "id": "b86ee6c1",
   "metadata": {},
   "source": [
    "# Model Training and Classification, Step by Step"
   ]
  },
  {
   "cell_type": "markdown",
   "id": "5a6b904e",
   "metadata": {},
   "source": [
    "- In this section, we will follow the individual steps to extract spectral information from the Sentinel-2 imagery using our training shapefiles, train a Random Forest model on the spectral reflectance values of the land cover classes, and classify a Sentinel-2 image tile."
   ]
  },
  {
   "cell_type": "markdown",
   "id": "161c6a58",
   "metadata": {},
   "source": [
    "## Extract Spectral Information from Sentinel-2 Imagery"
   ]
  },
  {
   "cell_type": "markdown",
   "id": "e472abb8-5507-43a6-88a0-37466d8f4962",
   "metadata": {},
   "source": [
    "- Since we have delineated our training polygons, we can now extract the spectral information from the imagery, by running `cls.extract_features_to_csv()` in the cell below.  \n",
    "- First, specify the paths to the training shapefile, training raster and the out directory."
   ]
  },
  {
   "cell_type": "code",
   "execution_count": 11,
   "id": "6a52ab52-e797-4523-8146-af4245fcf8df",
   "metadata": {
    "tags": []
   },
   "outputs": [
    {
     "name": "stderr",
     "output_type": "stream",
     "text": [
      "2024-08-16 10:08:58,661: INFO: File and Folder Specification Started::\n",
      "2024-08-16 10:08:58,663: INFO: - training_shape_filename set to: composite_T36MYE_20230220T074941_clipped_features.shp\n",
      "2024-08-16 10:08:58,666: INFO: - training_raster_filename set to: composite_T36MYE_20230220T074941_clipped.tif\n",
      "2024-08-16 10:08:58,669: INFO: - out_dir set to: Z:\\gy7709\\pyeo\\models\\my_model\n",
      "2024-08-16 10:08:58,672: INFO: - model_out_filename set to: my_model.pkl\n",
      "2024-08-16 10:08:58,674: INFO: - feature_out_filename set to: my_model_features.csv\n"
     ]
    }
   ],
   "source": [
    "# specify the path of the training shapefile\n",
    "training_shape_filename = \"composite_T36MYE_20230220T074941_clipped_features.shp\"\n",
    "# specify the path of the training raster\n",
    "training_raster_filename = \"composite_T36MYE_20230220T074941_clipped.tif\"\n",
    "# specify the output folder\n",
    "out_dir = model_dir\n",
    "# specify the output filename for the model\n",
    "model_name = \"my_model\"\n",
    "model_out_filename = f\"{model_name}.pkl\"\n",
    "# specify the output filename for the csv\n",
    "feature_out_filename = f'{model_name}_features.csv'\n",
    "\n",
    "log.info(f'File and Folder Specification Started::')\n",
    "log.info(f'- training_shape_filename set to: {training_shape_filename}')\n",
    "log.info(f'- training_raster_filename set to: {training_raster_filename}')\n",
    "log.info(f'- out_dir set to: {out_dir}')\n",
    "log.info(f'- model_out_filename set to: {model_out_filename}')\n",
    "log.info(f'- feature_out_filename set to: {feature_out_filename}')\n"
   ]
  },
  {
   "cell_type": "markdown",
   "id": "86d41973",
   "metadata": {},
   "source": [
    "### Create `out_folder` if it does not exist"
   ]
  },
  {
   "cell_type": "code",
   "execution_count": 12,
   "id": "eb47425b",
   "metadata": {
    "tags": []
   },
   "outputs": [],
   "source": [
    "if not os.path.exists(os.path.join(pyeo_dir, out_dir)):\n",
    "    os.mkdir(os.path.join(pyeo_dir, out_dir))"
   ]
  },
  {
   "cell_type": "markdown",
   "id": "4747e16f",
   "metadata": {},
   "source": [
    "### Run `extract_features_to_csv`"
   ]
  },
  {
   "cell_type": "markdown",
   "id": "6733353e",
   "metadata": {},
   "source": [
    "Now, we can run the `cls.extract_features_to_csv` function to create a csv file with the spectral signatures for each land cover class. If the column heading of your training shapefile is not `CODE`, substitute the correct column name with the `attribute` argument."
   ]
  },
  {
   "cell_type": "code",
   "execution_count": 13,
   "id": "972137b5",
   "metadata": {
    "tags": []
   },
   "outputs": [
    {
     "name": "stderr",
     "output_type": "stream",
     "text": [
      "2024-08-16 10:09:02,713: INFO: Feature Extraction Started:\n",
      "2024-08-16 10:09:02,715: INFO: - out_path set to: Z:\\gy7709\\pyeo\\models\\my_model\\my_model_features.csv\n",
      "2024-08-16 10:09:02,717: INFO: - training_raster_path set to: Z:\\gy7709\\pyeo\\models\\my_model\\composite_T36MYE_20230220T074941_clipped.tif\n",
      "2024-08-16 10:09:02,720: INFO: - training_shapefile_path set to: Z:\\gy7709\\pyeo\\models\\my_model\\composite_T36MYE_20230220T074941_clipped_features.shp\n"
     ]
    }
   ],
   "source": [
    "# declare our path variables as easier to read variables\n",
    "out_path = os.path.join(out_dir, feature_out_filename)\n",
    "training_raster_path = os.path.join(model_dir, training_raster_filename)\n",
    "training_shapefile_path = os.path.join(model_dir, training_shape_filename)\n",
    "\n",
    "log.info(f'Feature Extraction Started:')\n",
    "log.info(f'- out_path set to: {out_path}')\n",
    "log.info(f'- training_raster_path set to: {training_raster_path}')\n",
    "log.info(f'- training_shapefile_path set to: {training_shapefile_path}')"
   ]
  },
  {
   "cell_type": "code",
   "execution_count": 14,
   "id": "89c58935-b8db-4979-9164-6721a75d8d5c",
   "metadata": {
    "tags": []
   },
   "outputs": [
    {
     "name": "stderr",
     "output_type": "stream",
     "text": [
      "2024-08-16 10:09:04,424: INFO: Get training data from Z:\\gy7709\\pyeo\\models\\my_model\\composite_T36MYE_20230220T074941_clipped.tif\n",
      "2024-08-16 10:09:04,426: INFO:                    and Z:\\gy7709\\pyeo\\models\\my_model\\composite_T36MYE_20230220T074941_clipped_features.shp\n",
      "2024-08-16 10:09:04,855: INFO: Shape raster path Z:\\gy7709\\pyeo\\tmpg4zcc4qb\\composite_T36MYE_20230220T074941_clipped_features_rasterised\n"
     ]
    },
    {
     "name": "stdout",
     "output_type": "stream",
     "text": [
      "0 No IOError with file Z:\\gy7709\\pyeo\\tmps7gbog74\\composite_T36MYE_20230220T074941_clipped_features_rasterised\n",
      "0 No IOError with file Z:\\gy7709\\pyeo\\tmpg4zcc4qb\\composite_T36MYE_20230220T074941_clipped_features_rasterised\n"
     ]
    },
    {
     "name": "stderr",
     "output_type": "stream",
     "text": [
      "2024-08-16 10:09:05,710: INFO: 4 bands in image file\n",
      "2024-08-16 10:09:05,710: INFO: 11943 training pixels in shapefile\n"
     ]
    }
   ],
   "source": [
    "# run the function to extract the spectral values and assigned classes from the training raster and training shapefile\n",
    "cls.extract_features_to_csv(in_ras_path=training_raster_path,\n",
    "                            training_shape_path=training_shapefile_path,\n",
    "                            out_path=out_path,\n",
    "                            attribute=\"class\")"
   ]
  },
  {
   "cell_type": "markdown",
   "id": "68b8dded-36ab-4a1c-b01c-3c94a57a4f86",
   "metadata": {},
   "source": [
    "- Let's see what `features.csv` looks like, by reading in the csv and printing the first 5 rows.  \n",
    "- Each row represents a pixel of a certain class. The first column in each row is the class of that pixel, with the columns after that being the Sentinel 2 blue, green, red and NIR value of that pixel."
   ]
  },
  {
   "cell_type": "code",
   "execution_count": 15,
   "id": "26a23871",
   "metadata": {
    "tags": []
   },
   "outputs": [
    {
     "data": {
      "text/html": [
       "<div>\n",
       "<style scoped>\n",
       "    .dataframe tbody tr th:only-of-type {\n",
       "        vertical-align: middle;\n",
       "    }\n",
       "\n",
       "    .dataframe tbody tr th {\n",
       "        vertical-align: top;\n",
       "    }\n",
       "\n",
       "    .dataframe thead th {\n",
       "        text-align: right;\n",
       "    }\n",
       "</style>\n",
       "<table border=\"1\" class=\"dataframe\">\n",
       "  <thead>\n",
       "    <tr style=\"text-align: right;\">\n",
       "      <th></th>\n",
       "      <th>class</th>\n",
       "      <th>R</th>\n",
       "      <th>G</th>\n",
       "      <th>B</th>\n",
       "      <th>nIR</th>\n",
       "    </tr>\n",
       "  </thead>\n",
       "  <tbody>\n",
       "    <tr>\n",
       "      <th>0</th>\n",
       "      <td>2.0</td>\n",
       "      <td>189.0</td>\n",
       "      <td>306.0</td>\n",
       "      <td>206.0</td>\n",
       "      <td>2906.0</td>\n",
       "    </tr>\n",
       "    <tr>\n",
       "      <th>1</th>\n",
       "      <td>2.0</td>\n",
       "      <td>190.0</td>\n",
       "      <td>295.0</td>\n",
       "      <td>204.0</td>\n",
       "      <td>2850.0</td>\n",
       "    </tr>\n",
       "    <tr>\n",
       "      <th>2</th>\n",
       "      <td>2.0</td>\n",
       "      <td>187.0</td>\n",
       "      <td>289.0</td>\n",
       "      <td>202.0</td>\n",
       "      <td>2773.0</td>\n",
       "    </tr>\n",
       "    <tr>\n",
       "      <th>3</th>\n",
       "      <td>2.0</td>\n",
       "      <td>170.0</td>\n",
       "      <td>297.0</td>\n",
       "      <td>202.0</td>\n",
       "      <td>2798.0</td>\n",
       "    </tr>\n",
       "    <tr>\n",
       "      <th>4</th>\n",
       "      <td>2.0</td>\n",
       "      <td>191.0</td>\n",
       "      <td>308.0</td>\n",
       "      <td>209.0</td>\n",
       "      <td>2873.0</td>\n",
       "    </tr>\n",
       "  </tbody>\n",
       "</table>\n",
       "</div>"
      ],
      "text/plain": [
       "   class      R      G      B     nIR\n",
       "0    2.0  189.0  306.0  206.0  2906.0\n",
       "1    2.0  190.0  295.0  204.0  2850.0\n",
       "2    2.0  187.0  289.0  202.0  2773.0\n",
       "3    2.0  170.0  297.0  202.0  2798.0\n",
       "4    2.0  191.0  308.0  209.0  2873.0"
      ]
     },
     "execution_count": 15,
     "metadata": {},
     "output_type": "execute_result"
    }
   ],
   "source": [
    "# declare out_path from previous cell as csv_path, to avoid confusion\n",
    "csv_path = out_path\n",
    "\n",
    "# read in our spectral signatures\n",
    "features = pd.read_csv(csv_path)\n",
    "\n",
    "features.columns = [\"class\", \"R\", \"G\", \"B\", \"nIR\"]\n",
    "\n",
    "# prints the first 5 rows of features\n",
    "features.head(5)"
   ]
  },
  {
   "cell_type": "code",
   "execution_count": 16,
   "id": "71bf8c6e-0da9-4485-930c-57ed4c5974ce",
   "metadata": {
    "tags": []
   },
   "outputs": [
    {
     "data": {
      "text/html": [
       "<div>\n",
       "<style scoped>\n",
       "    .dataframe tbody tr th:only-of-type {\n",
       "        vertical-align: middle;\n",
       "    }\n",
       "\n",
       "    .dataframe tbody tr th {\n",
       "        vertical-align: top;\n",
       "    }\n",
       "\n",
       "    .dataframe thead th {\n",
       "        text-align: right;\n",
       "    }\n",
       "</style>\n",
       "<table border=\"1\" class=\"dataframe\">\n",
       "  <thead>\n",
       "    <tr style=\"text-align: right;\">\n",
       "      <th></th>\n",
       "      <th>class</th>\n",
       "      <th>R</th>\n",
       "      <th>G</th>\n",
       "      <th>B</th>\n",
       "      <th>nIR</th>\n",
       "    </tr>\n",
       "  </thead>\n",
       "  <tbody>\n",
       "    <tr>\n",
       "      <th>11937</th>\n",
       "      <td>5.0</td>\n",
       "      <td>365.0</td>\n",
       "      <td>618.0</td>\n",
       "      <td>487.0</td>\n",
       "      <td>3080.0</td>\n",
       "    </tr>\n",
       "    <tr>\n",
       "      <th>11938</th>\n",
       "      <td>5.0</td>\n",
       "      <td>353.0</td>\n",
       "      <td>614.0</td>\n",
       "      <td>478.0</td>\n",
       "      <td>2927.0</td>\n",
       "    </tr>\n",
       "    <tr>\n",
       "      <th>11939</th>\n",
       "      <td>5.0</td>\n",
       "      <td>341.0</td>\n",
       "      <td>595.0</td>\n",
       "      <td>472.0</td>\n",
       "      <td>2938.0</td>\n",
       "    </tr>\n",
       "    <tr>\n",
       "      <th>11940</th>\n",
       "      <td>5.0</td>\n",
       "      <td>348.0</td>\n",
       "      <td>615.0</td>\n",
       "      <td>473.0</td>\n",
       "      <td>3074.0</td>\n",
       "    </tr>\n",
       "    <tr>\n",
       "      <th>11941</th>\n",
       "      <td>5.0</td>\n",
       "      <td>359.0</td>\n",
       "      <td>583.0</td>\n",
       "      <td>471.0</td>\n",
       "      <td>3056.0</td>\n",
       "    </tr>\n",
       "  </tbody>\n",
       "</table>\n",
       "</div>"
      ],
      "text/plain": [
       "       class      R      G      B     nIR\n",
       "11937    5.0  365.0  618.0  487.0  3080.0\n",
       "11938    5.0  353.0  614.0  478.0  2927.0\n",
       "11939    5.0  341.0  595.0  472.0  2938.0\n",
       "11940    5.0  348.0  615.0  473.0  3074.0\n",
       "11941    5.0  359.0  583.0  471.0  3056.0"
      ]
     },
     "execution_count": 16,
     "metadata": {},
     "output_type": "execute_result"
    }
   ],
   "source": [
    "features.tail(5)"
   ]
  },
  {
   "cell_type": "markdown",
   "id": "bffab395-617e-40e3-9947-46acfcb9f9f6",
   "metadata": {},
   "source": [
    "- Note: your model folder should now contain a .csv file of features - check using the file explorer on the left"
   ]
  },
  {
   "cell_type": "markdown",
   "id": "18f1ed4c",
   "metadata": {},
   "source": [
    "## Model Creation and Training"
   ]
  },
  {
   "cell_type": "markdown",
   "id": "6781a305-df46-4492-b14a-d8b6e6b13dc3",
   "metadata": {},
   "source": [
    "- Now we can create a scikit-learn Extra Trees Classifier using PyEO:"
   ]
  },
  {
   "cell_type": "code",
   "execution_count": 17,
   "id": "0893f1ad",
   "metadata": {
    "tags": []
   },
   "outputs": [
    {
     "name": "stderr",
     "output_type": "stream",
     "text": [
      "2024-08-16 10:09:10,823: INFO: Model Building Started:\n"
     ]
    },
    {
     "name": "stdout",
     "output_type": "stream",
     "text": [
      "[[ 182  316  195 2780]\n",
      " [ 189  306  206 2906]\n",
      " [ 190  295  204 2850]\n",
      " ...\n",
      " [ 341  595  472 2938]\n",
      " [ 348  615  473 3074]\n",
      " [ 359  583  471 3056]]\n",
      "[2 2 2 ... 5 5 5]\n"
     ]
    },
    {
     "name": "stderr",
     "output_type": "stream",
     "text": [
      "2024-08-16 10:09:11,620: INFO: Model saved at Z:\\gy7709\\pyeo\\models\\my_model\\my_model.pkl\n"
     ]
    }
   ],
   "source": [
    "log.info(f'Model Building Started:')\n",
    "\n",
    "# initialise an Extra Trees Classifier\n",
    "model = ens.ExtraTreesClassifier(bootstrap=False, criterion=\"gini\", max_features=0.55, min_samples_leaf=2,\n",
    "                                    min_samples_split=16, n_estimators=100, n_jobs=-1, class_weight='balanced')\n",
    "\n",
    "# load signatures from csv file\n",
    "features, labels = cls.load_signatures(csv_path, sig_datatype=np.int32)\n",
    "print(features)\n",
    "print(labels)\n",
    "\n",
    "# split into test and train samples, reserving 25% for testing model accuracy\n",
    "X_train, X_test, y_train, y_test = train_test_split(features, labels, test_size=.25, random_state=101)\n",
    "\n",
    "# train the model\n",
    "model.fit(X_train, y_train)\n",
    "\n",
    "# save the model\n",
    "model_path = os.path.join(out_dir, model_out_filename)\n",
    "joblib.dump(model, filename = model_path)\n",
    "\n",
    "log.info(f\"Model saved at {model_path}\")"
   ]
  },
  {
   "cell_type": "markdown",
   "id": "a141c983-f92c-41ff-a1a9-11a0a87cd20b",
   "metadata": {},
   "source": [
    "- Note: your model folder should now contain a .pkl file containing your model - check using the file explorer on the left"
   ]
  },
  {
   "cell_type": "markdown",
   "id": "000fed51",
   "metadata": {},
   "source": [
    "## Accuracy Statistics"
   ]
  },
  {
   "cell_type": "markdown",
   "id": "5f882e83",
   "metadata": {},
   "source": [
    "- Now that we have a model trained from shapefiles defined over Sentinel-2 image tile, we should assess the model accuracy.  \n",
    "- To do that, we will use the model to predict the classes of `y_test` from the values of `X_test`, which comprise the 25% that we reserved for testing model accuracy."
   ]
  },
  {
   "cell_type": "code",
   "execution_count": 18,
   "id": "62bb4a94",
   "metadata": {
    "tags": []
   },
   "outputs": [
    {
     "name": "stderr",
     "output_type": "stream",
     "text": [
      "2024-08-16 10:09:13,702: INFO: Model Performance Analysis Started:\n"
     ]
    },
    {
     "name": "stdout",
     "output_type": "stream",
     "text": [
      "[[1478   38    0    0    0    0]\n",
      " [   8  337    0    0    0    0]\n",
      " [   0    0  152    0    0    0]\n",
      " [   0    0    0  344    0    0]\n",
      " [   0    0    0    0  458    0]\n",
      " [   0    0    1    0    0  170]]\n"
     ]
    }
   ],
   "source": [
    "log.info(f'Model Performance Analysis Started:')\n",
    "\n",
    "confusion_matrix_out_filename = f'{model_name}_confusion_matrix.txt'\n",
    "class_scores_out_filename = f'{model_name}_class_scores.txt'\n",
    "\n",
    "# make a prediction\n",
    "y_pred = model.predict(X_test)\n",
    "\n",
    "# create a confusion matrix\n",
    "matrix = confusion_matrix(y_true=y_test, y_pred=y_pred,)\n",
    "\n",
    "# write the confusion matrix to file\n",
    "with open(os.path.join(out_dir, confusion_matrix_out_filename), \"w\") as txt:\n",
    "    print(matrix, file=txt)\n",
    "\n",
    "# write classification labels\n",
    "target_names = [\"Primary Forest\",\n",
    "          \"Plantation Forest\",\n",
    "          \"Bare Soil\",\n",
    "          \"Crops\",\n",
    "          \"Grassland\",\n",
    "          \"Artificial\"]\n",
    "\n",
    "# view the matrix\n",
    "print(matrix)"
   ]
  },
  {
   "cell_type": "code",
   "execution_count": 19,
   "id": "3d873269-e7e6-4878-a39a-1ceff7e55f4f",
   "metadata": {
    "tags": []
   },
   "outputs": [
    {
     "name": "stdout",
     "output_type": "stream",
     "text": [
      "                   precision    recall  f1-score   support\n",
      "\n",
      "   Primary Forest   0.994616  0.974934  0.984677      1516\n",
      "Plantation Forest   0.898667  0.976812  0.936111       345\n",
      "        Bare Soil   0.993464  1.000000  0.996721       152\n",
      "            Crops   1.000000  1.000000  1.000000       344\n",
      "        Grassland   1.000000  1.000000  1.000000       458\n",
      "       Artificial   1.000000  0.994152  0.997067       171\n",
      "\n",
      "         accuracy                       0.984260      2986\n",
      "        macro avg   0.981125  0.990983  0.985763      2986\n",
      "     weighted avg   0.985226  0.984260  0.984504      2986\n",
      "\n"
     ]
    }
   ],
   "source": [
    "# create classification metrics report\n",
    "report = classification_report(y_true=y_test, y_pred=y_pred, digits=6, target_names=target_names)\n",
    "\n",
    "# write classification report to file\n",
    "with open(os.path.join(out_dir, class_scores_out_filename), \"w\") as txt:\n",
    "    print(report, file=txt)\n",
    "\n",
    "# view the report\n",
    "print(report)"
   ]
  },
  {
   "cell_type": "markdown",
   "id": "8bba6126",
   "metadata": {},
   "source": [
    "In a classification, the precision for a class is the number of true positives (i.e. the number of pixels correctly labelled as belonging to the class) divided by the total number of pixels labelled as belonging to the class (i.e. the sum of true positives and false positives). \n",
    "\n",
    "Recall for a class is defined as the number of true positives (i.e. correctly classified pixels) divided by the total number of pixels that actually belong to the class (i.e. the sum of true positives and false negatives, which are pixels which were not labelled as belonging to the class but should have been). \n",
    "\n",
    "The F1 score is the harmonic mean of the precision and recall and indicates the overall accuracy of each class. \n",
    "\n",
    "Support is the number of pixels that belongs to each class in the training data.\n",
    "\n",
    "(Modified after Wikipedia, 2024)."
   ]
  },
  {
   "cell_type": "markdown",
   "id": "6daad613",
   "metadata": {},
   "source": [
    "## Image Classification"
   ]
  },
  {
   "cell_type": "markdown",
   "id": "21a2b312",
   "metadata": {},
   "source": [
    "- Once we are happy with the performance of the model we can now classify a Sentinel-2 image tiles so long as they have similar land use and vegetation cover (and thus spectral characteristics) to the imagery used to train the model.\n",
    "- Here, we will simply use our training image and see how well the classification extends over the untrained areas of the image"
   ]
  },
  {
   "cell_type": "code",
   "execution_count": 20,
   "id": "b7f3ccb9-8ba2-41ed-b72f-9ce1eb99b3c0",
   "metadata": {},
   "outputs": [
    {
     "data": {
      "text/plain": [
       "'Z:\\\\gy7709\\\\pyeo'"
      ]
     },
     "execution_count": 20,
     "metadata": {},
     "output_type": "execute_result"
    }
   ],
   "source": [
    "pwd"
   ]
  },
  {
   "cell_type": "markdown",
   "id": "284ed5e4-2307-4f3d-9fda-95f2beb33bad",
   "metadata": {
    "tags": []
   },
   "source": [
    "- Note: your model folder should now contain a classified image with '_full_class' appended to the raw image name - check using the File Explorer."
   ]
  },
  {
   "cell_type": "code",
   "execution_count": 21,
   "id": "7896f468",
   "metadata": {
    "tags": []
   },
   "outputs": [
    {
     "name": "stderr",
     "output_type": "stream",
     "text": [
      "2024-08-16 10:09:20,569: INFO: Image Classification with Model Started:\n",
      "2024-08-16 10:09:20,584: INFO: Classifying file: Z:\\gy7709\\pyeo\\models\\my_model\\composite_T36MYE_20230220T074941_clipped.tif\n",
      "2024-08-16 10:09:20,586: INFO: Saved model     : Z:\\gy7709\\pyeo\\models\\my_model\\my_model.pkl\n",
      "2024-08-16 10:09:21,244: INFO: Proportion of non-missing pixel values: 100.0%\n",
      "2024-08-16 10:09:21,321: INFO:    Number of chunks 10\n",
      "2024-08-16 10:09:21,325: INFO:    Chunk size 265194\n",
      "2024-08-16 10:09:21,328: INFO:    Chunk residual 6\n",
      "2024-08-16 10:09:21,332: INFO:    Classifying chunk 1 of size 265194\n",
      "2024-08-16 10:09:22,991: INFO:    Classifying chunk 2 of size 265194\n",
      "2024-08-16 10:09:25,206: INFO:    Classifying chunk 3 of size 265194\n",
      "2024-08-16 10:09:26,618: INFO:    Classifying chunk 4 of size 265194\n",
      "2024-08-16 10:09:28,433: INFO:    Classifying chunk 5 of size 265194\n",
      "2024-08-16 10:09:29,982: INFO:    Classifying chunk 6 of size 265194\n",
      "2024-08-16 10:09:31,300: INFO:    Classifying chunk 7 of size 265194\n",
      "2024-08-16 10:09:32,267: INFO:    Classifying chunk 8 of size 265194\n",
      "2024-08-16 10:09:33,839: INFO:    Classifying chunk 9 of size 265194\n",
      "2024-08-16 10:09:35,908: INFO:    Classifying chunk 10 of size 265200\n"
     ]
    },
    {
     "name": "stdout",
     "output_type": "stream",
     "text": [
      "0 No IOError with file Z:\\gy7709\\pyeo\\tmprli_wmlu\\composite_T36MYE_20230220T074941_clipped_full_class.tif\n",
      "0 No IOError with file Z:\\gy7709\\pyeo\\models\\my_model\\composite_T36MYE_20230220T074941_clipped_full_class.tif\n",
      "Z:\\gy7709\\pyeo\\models\\my_model\\composite_T36MYE_20230220T074941_clipped_full_class.tif already exists. Deleting the old file.\n"
     ]
    },
    {
     "name": "stderr",
     "output_type": "stream",
     "text": [
      "2024-08-16 10:09:39,697: INFO: Created classification image file: Z:\\gy7709\\pyeo\\models\\my_model\\composite_T36MYE_20230220T074941_clipped_full_class.tif\n",
      "2024-08-16 10:09:39,733: INFO: Classification Image Saved: Z:\\gy7709\\pyeo\\models\\my_model\\composite_T36MYE_20230220T074941_clipped_full_class.tif\n"
     ]
    }
   ],
   "source": [
    "log.info(f'Image Classification with Model Started:')\n",
    "\n",
    "from pyeo import classification as cls\n",
    "\n",
    "# test_raster_path = training_raster_path\n",
    "test_raster_filename = 'composite_T36MYE_20230220T074941_clipped.tif'\n",
    "test_raster_path = os.path.join(model_dir, test_raster_filename)\n",
    "\n",
    "if not os.path.exists(test_raster_path):\n",
    "    log.error(f\"File {test_raster_path} does not exist.\")\n",
    "\n",
    "if not os.path.exists(model_path):\n",
    "    log.error(f\"File {model_path} does not exist.\")\n",
    "\n",
    "class_out_filename = f'{os.path.splitext(test_raster_filename)[0]}_full_class.tif'\n",
    "class_out_path = os.path.join(out_dir, class_out_filename)\n",
    "\n",
    "cls.classify_image(image_path=test_raster_path,\n",
    "                   model_path=model_path,\n",
    "                   class_out_path=class_out_path,\n",
    "                   prob_out_path=None,\n",
    "                   apply_mask=False,\n",
    "                   out_format=\"GTiff\",\n",
    "                   chunks=10,\n",
    "                   nodata=0,\n",
    "                   skip_existing = False)\n",
    "\n",
    "log.info(f'Classification Image Saved: {class_out_path}')\n"
   ]
  },
  {
   "cell_type": "markdown",
   "id": "d725b6fa",
   "metadata": {},
   "source": [
    "## Visualise the Classification Imagery"
   ]
  },
  {
   "cell_type": "markdown",
   "id": "2e16f6d0",
   "metadata": {},
   "source": [
    "Now we can now define a function to colormap and visualise the classification image"
   ]
  },
  {
   "cell_type": "code",
   "execution_count": 25,
   "id": "3b653e67",
   "metadata": {
    "tags": []
   },
   "outputs": [],
   "source": [
    "def visualise_classification(classified_path: str, labels: list):\n",
    "    ds = gdal.Open(classified_path)\n",
    "    array = np.array(ds.GetRasterBand(1).ReadAsArray())\n",
    "    \n",
    "    unique, _counts = np.unique(array, return_counts=True)\n",
    "\n",
    "    counts=list(np.zeros(max(unique)+1,'int'))\n",
    "    for i in range(0, len(_counts)):\n",
    "        counts[unique[i]] = _counts[i]\n",
    "\n",
    "    #counts, _ = np.histogram(array, bins = len(labels))\n",
    "    print(counts)\n",
    "    \n",
    "    percent = counts / sum(counts)\n",
    "    fig, (ax1, ax2) = plt.subplots(1, 2, figsize = (12, 6))\n",
    "\n",
    "\n",
    "    def discrete_cmap(N, base_cmap=None):\n",
    "        \"\"\"Create an N-bin discrete colormap from the specified input map\"\"\"\n",
    "\n",
    "        # this function was taken on 10/03/2023 from https://gist.github.com/jakevdp/91077b0cae40f8f8244a\n",
    "        # author: Jake Vanderplas\n",
    "        \n",
    "        # warnings.filterwarnings(\"ignore\", category=MatplotlibDeprecationWarning)\n",
    "        base = plt.cm.get_cmap(base_cmap)\n",
    "        color_list = base(np.linspace(0, 1, N))\n",
    "        cmap_name = base.name + str(N)\n",
    "        return base.from_list(cmap_name, color_list, N)\n",
    "\n",
    "    cmap = discrete_cmap(len(labels), base_cmap=\"coolwarm\")\n",
    "    # cmap = discrete_cmap(len(labels), base_cmap=\"cubehelix\")\n",
    "    # cmap.set_bad(\"red\")\n",
    "    colour_list = [mcolors.rgb2hex(cmap(i)) for i in range(cmap.N)]\n",
    "    print(cmap.N)\n",
    "    if cmap.N <=14:\n",
    "        log.info(\"Defining custom colour table for up to 13 classes and a missing data class of 0 (0..13)\")\n",
    "        colour_list = [\n",
    "                      [0, 0, 0, 1],  # no data\n",
    "                      [0, 100/255, 0, 1],  # Primary Forest\n",
    "                      [154/255, 205/255, 50/255, 1],  # plantation Forest\n",
    "                      [139/255, 69/255, 19/255, 1],  # Bare Soil\n",
    "                      [189/255, 183/255, 107/255, 1],  # Crops\n",
    "                      [240/255, 230/255, 140/255, 1],  # Grassland\n",
    "                      [0, 0, 205/255, 1],  # Open Water\n",
    "                      [128/255, 0, 0, 1],  # Burn Scar\n",
    "                      [255/255, 255/255, 255/255, 1],  # cloud\n",
    "                      [60/255, 60/255, 60/255, 1],  # cloud shadow\n",
    "                      [128/255, 128/255, 128/255, 1],  # Haze\n",
    "                      [46/255, 139/255, 87/255, 1],  # Open Woodland\n",
    "                      [92/255, 145/255, 92/255, 1],  # Closed Woodland\n",
    "                      [255/255, 30/255, 30/255, 1]  # Artificial\n",
    "                      ]\n",
    "        cmap = LinearSegmentedColormap.from_list(\"pyeo_class_colors\", colour_list, N=cmap.N)\n",
    "    \n",
    "    x = np.arange(0, len(labels))\n",
    "    ax1.bar(x, percent, color=colour_list)\n",
    "    ax1.set_title(\"Classes distribution\")\n",
    "    ax2.set_title(\"Classification raster displayed\")\n",
    "    im = ax2.imshow(array, cmap=cmap, aspect=\"auto\", vmin=-0.5, vmax=len(labels)+0.5)\n",
    "    fig.colorbar(im, ax=ax2) \n",
    "    plt.show()\n",
    "\n",
    "    return"
   ]
  },
  {
   "cell_type": "code",
   "execution_count": 26,
   "id": "54feb6e2",
   "metadata": {
    "tags": []
   },
   "outputs": [
    {
     "name": "stderr",
     "output_type": "stream",
     "text": [
      "C:\\Users\\hb91\\AppData\\Local\\Temp\\ipykernel_23668\\525787428.py:25: MatplotlibDeprecationWarning: The get_cmap function was deprecated in Matplotlib 3.7 and will be removed two minor releases later. Use ``matplotlib.colormaps[name]`` or ``matplotlib.colormaps.get_cmap(obj)`` instead.\n",
      "  base = plt.cm.get_cmap(base_cmap)\n",
      "2024-08-16 10:11:40,170: INFO: Defining custom colour table for up to 13 classes and a missing data class of 0 (0..13)\n"
     ]
    },
    {
     "name": "stdout",
     "output_type": "stream",
     "text": [
      "Unique class values:\n",
      "[ 1  2  3  4  5 13]\n",
      "6\n",
      "[0, 1414007, 117665, 39798, 303407, 663582, 0, 0, 0, 0, 0, 0, 0, 113487]\n",
      "14\n"
     ]
    },
    {
     "data": {
      "image/png": "[encoded data removed]",
      "text/plain": [
       "<Figure size 1200x600 with 3 Axes>"
      ]
     },
     "metadata": {},
     "output_type": "display_data"
    }
   ],
   "source": [
    "# create a list of class labels\n",
    "\n",
    "# load the class labels from the csv file\n",
    "features, class_values = cls.load_signatures(csv_path, sig_datatype=np.int32)\n",
    "class_values = np.unique(class_values)\n",
    "\n",
    "print(\"Unique class values:\")\n",
    "print(class_values)\n",
    "print(len(class_values))\n",
    "labels = [\"no data\",\n",
    "          \"Primary Forest\",\n",
    "          \"Plantation Forest\",\n",
    "          \"Bare Soil\",\n",
    "          \"Crops\",\n",
    "          \"Grassland\",\n",
    "          \"Open Water\",\n",
    "          \"Burn Scar\",\n",
    "          \"Cloud\",\n",
    "          \"Cloud shadow\",\n",
    "          \"Haze\",\n",
    "          \"Open Woodland\",\n",
    "          \"Closed Woodland\",\n",
    "          \"Artificial\"\n",
    "         ]\n",
    "\n",
    "visualise_classification(classified_path=class_out_path, labels=labels)"
   ]
  },
  {
   "cell_type": "code",
   "execution_count": null,
   "id": "4e6e42ba-699b-4286-bc84-11b86f37a78d",
   "metadata": {},
   "outputs": [],
   "source": []
  }
 ],
 "metadata": {
  "kernelspec": {
   "display_name": "Python 3 (ipykernel)",
   "language": "python",
   "name": "python3"
  },
  "language_info": {
   "codemirror_mode": {
    "name": "ipython",
    "version": 3
   },
   "file_extension": ".py",
   "mimetype": "text/x-python",
   "name": "python",
   "nbconvert_exporter": "python",
   "pygments_lexer": "ipython3",
   "version": "3.10.12"
  },
  "toc-autonumbering": true
 },
 "nbformat": 4,
 "nbformat_minor": 5
}
